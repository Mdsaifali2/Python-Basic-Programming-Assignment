{
 "cells": [
  {
   "cell_type": "code",
   "execution_count": 29,
   "id": "748bb8f1-a192-480a-9124-316a240cd2bb",
   "metadata": {},
   "outputs": [
    {
     "name": "stdin",
     "output_type": "stream",
     "text": [
      "Enter Range :  100\n"
     ]
    },
    {
     "name": "stdout",
     "output_type": "stream",
     "text": [
      "0, 35, 70\n"
     ]
    }
   ],
   "source": [
    "# Question 1:\n",
    "# Please write a program using generator to print the numbers which can be divisible by 5 and\n",
    "# 7 between 0 and n in comma separated form while n is input by console.\n",
    "# Example:\n",
    "# If the following n is given as input to the program:\n",
    "# 100\n",
    "# Then, the output of the program should be:\n",
    "# 0,35,70\n",
    "    \n",
    "class genrator:\n",
    "    def __init__(self):\n",
    "        self.n  = int(input(\"Enter Range : \"))\n",
    "        \n",
    "    def gen(self):\n",
    "        for i in range(0,self.n):\n",
    "            if i%7==0 and i%5 == 0:\n",
    "                yield i\n",
    "                \n",
    "\n",
    "gen = genrator().gen()\n",
    "num = list()\n",
    "for i in gen:\n",
    "    num.append(str(i))\n",
    "n = \", \".join(num)\n",
    "print(n)\n"
   ]
  },
  {
   "cell_type": "code",
   "execution_count": 33,
   "id": "5160b38f-85ab-4c34-807b-73677aa94ee3",
   "metadata": {},
   "outputs": [
    {
     "name": "stdin",
     "output_type": "stream",
     "text": [
      "Enter Range :  10\n"
     ]
    },
    {
     "name": "stdout",
     "output_type": "stream",
     "text": [
      "0, 2, 4, 6, 8, 10\n"
     ]
    }
   ],
   "source": [
    "# Question 2:\n",
    "# Please write a program using generator to print the even numbers between 0 and n in comma\n",
    "# separated form while n is input by console.\n",
    "# Example:\n",
    "# If the following n is given as input to the program:\n",
    "# 10\n",
    "# Then, the output of the program should be:\n",
    "# 0,2,4,6,8,10\n",
    "\n",
    "class genrator:\n",
    "    def __init__(self):\n",
    "        self.n  = int(input(\"Enter Range : \"))\n",
    "        \n",
    "    def gen(self):\n",
    "        for i in range(0,self.n+1):\n",
    "            if i%2==0:\n",
    "                yield i\n",
    "                \n",
    "\n",
    "gen = genrator().gen()\n",
    "num = list()\n",
    "for i in gen:\n",
    "    num.append(str(i))\n",
    "n = \", \".join(num)\n",
    "print(n)\n",
    "\n"
   ]
  },
  {
   "cell_type": "code",
   "execution_count": 44,
   "id": "5724381a-db70-4d2b-8cac-3fab9387e5ae",
   "metadata": {},
   "outputs": [
    {
     "name": "stdin",
     "output_type": "stream",
     "text": [
      "Enter number :  7\n"
     ]
    },
    {
     "name": "stdout",
     "output_type": "stream",
     "text": [
      "0, 1, 1, 2, 3, 5, 8, 13\n"
     ]
    }
   ],
   "source": [
    "# Question 3:\n",
    "\n",
    "# The Fibonacci Sequence is computed based on the following formula:\n",
    "# f(n)=0 if n=0\n",
    "# f(n)=1 if n=1\n",
    "# f(n)=f(n-1)+f(n-2) if n > 1\n",
    "# Please write a program using list comprehension to print the Fibonacci Sequence in comma\n",
    "# separated form with a given n input by console.\n",
    "# Example:\n",
    "# If the following n is given as input to the program:\n",
    "# 7\n",
    "\n",
    "# Then, the output of the program should be:\n",
    "# 0,1,1,2,3,5,8,13\n",
    "\n",
    "def fiboncacci(n):\n",
    "    if n == 0:\n",
    "        return 0\n",
    "    elif n==1:\n",
    "        return 1\n",
    "    else:\n",
    "        return fiboncacci(n-1) + fiboncacci(n-2)\n",
    "    \n",
    "n = int(input(\"Enter number : \"))\n",
    "numm = [str(fiboncacci(i)) for i in range(0,n+1)]\n",
    "num = \", \".join(numm)\n",
    "print(num)\n"
   ]
  },
  {
   "cell_type": "code",
   "execution_count": 50,
   "id": "f066f97d-95e8-433c-80cb-191acc658d25",
   "metadata": {},
   "outputs": [
    {
     "name": "stdin",
     "output_type": "stream",
     "text": [
      "Enter email to get the user name :  john@google.com\n"
     ]
    },
    {
     "name": "stdout",
     "output_type": "stream",
     "text": [
      "john\n",
      "google\n"
     ]
    }
   ],
   "source": [
    "# Question 4:\n",
    "# Assuming that we have some email addresses in the 'username@companyname.com' format,\n",
    "# please write program to print the user name of a given email address. Both user names and\n",
    "# company names are composed of letters only.\n",
    "# Example:\n",
    "# If the following email address is given as input to the program:\n",
    "# john@google.com\n",
    "# Then, the output of the program should be:\n",
    "# john\n",
    "\n",
    "\n",
    "def get_User():\n",
    "    email = input(\"Enter email to get the user name : \")\n",
    "    detail = email.split(\"@\")\n",
    "    company = detail[1].split(\".\")\n",
    "    return detail[0], company[0]\n",
    "\n",
    "username, company = get_User()\n",
    "print(username)\n",
    "print(company)"
   ]
  },
  {
   "cell_type": "code",
   "execution_count": 56,
   "id": "ca4756d4-2c6f-4b60-a060-f3752c55b283",
   "metadata": {},
   "outputs": [
    {
     "name": "stdin",
     "output_type": "stream",
     "text": [
      "Enter length :  10\n"
     ]
    },
    {
     "name": "stdout",
     "output_type": "stream",
     "text": [
      "100\n"
     ]
    }
   ],
   "source": [
    "# Question 5:\n",
    "# Define a class named Shape and its subclass Square. The Square class has an init function\n",
    "# which takes a length as argument. Both classes have a area function which can print the area\n",
    "# of the shape where Shape's area is 0 by default.\n",
    "\n",
    "\n",
    "class Shape:\n",
    "    def __init__(self):\n",
    "        pass\n",
    "    def area(self):\n",
    "        self.area = 0\n",
    "        return self.area\n",
    "    \n",
    "class Square(Shape):\n",
    "    def __init__(self):\n",
    "        self.length = int(input(\"Enter length : \"))\n",
    "    \n",
    "    def area(self):\n",
    "        self.area = self.length*self.length\n",
    "        return self.area\n",
    "    \n",
    "\n",
    "obj = Square()\n",
    "print(obj.area())"
   ]
  }
 ],
 "metadata": {
  "kernelspec": {
   "display_name": "Python 3 (ipykernel)",
   "language": "python",
   "name": "python3"
  },
  "language_info": {
   "codemirror_mode": {
    "name": "ipython",
    "version": 3
   },
   "file_extension": ".py",
   "mimetype": "text/x-python",
   "name": "python",
   "nbconvert_exporter": "python",
   "pygments_lexer": "ipython3",
   "version": "3.10.6"
  }
 },
 "nbformat": 4,
 "nbformat_minor": 5
}
