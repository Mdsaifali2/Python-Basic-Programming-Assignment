{
 "cells": [
  {
   "cell_type": "code",
   "execution_count": 3,
   "id": "82177b62-0436-49b2-b038-02d62b944cda",
   "metadata": {},
   "outputs": [
    {
     "name": "stdout",
     "output_type": "stream",
     "text": [
      "319\n"
     ]
    }
   ],
   "source": [
    "# 1. Write a Python Program to find sum of array?\n",
    "\n",
    "def sum_array(x):\n",
    "    result = 0\n",
    "    for i in x:\n",
    "        result = result + i\n",
    "    return result\n",
    "\n",
    "n = [1,25,68,7,5,46,78,4,12,69,4]\n",
    "result = sum_array(n)\n",
    "print(result)"
   ]
  },
  {
   "cell_type": "code",
   "execution_count": 8,
   "id": "85637921-b9a6-4072-af83-d10af9070719",
   "metadata": {},
   "outputs": [
    {
     "name": "stdout",
     "output_type": "stream",
     "text": [
      "78\n"
     ]
    }
   ],
   "source": [
    "# 2. Write a Python Program to find largest element in an array?\n",
    "\n",
    "def largest_ele(x):\n",
    "    maxx = 0\n",
    "    for i in x:\n",
    "        if i>maxx:\n",
    "            maxx = i\n",
    "    return maxx\n",
    "\n",
    "n = [1,25,68,7,5,46,78,4,12,69,4]\n",
    "result = largest_ele(n)\n",
    "print(result)"
   ]
  },
  {
   "cell_type": "code",
   "execution_count": 15,
   "id": "79ae046f-a522-41b9-a109-0c7f51997b81",
   "metadata": {},
   "outputs": [
    {
     "name": "stdout",
     "output_type": "stream",
     "text": [
      "[8, 9, 4, 1, 2, 3, 4, 5, 56, 9, 4, 6, 2, 4, 6, 37]\n"
     ]
    }
   ],
   "source": [
    "# 3. Write a Python Program for array rotation?\n",
    "\n",
    "def rotate_array(arr, k):\n",
    "    n = len(arr)\n",
    "    k = k % n\n",
    "    arr[:] = arr[n-k:] + arr[:n-k]\n",
    "    return arr\n",
    "\n",
    "\n",
    "arr = [1, 2, 3, 4, 5,56,9,4,6,2,4,6,37,8,9,4]\n",
    "k = 3\n",
    "arr= rotate_array(arr, k)\n",
    "print(arr)"
   ]
  },
  {
   "cell_type": "code",
   "execution_count": 24,
   "id": "2095e2bc-bd13-411a-ac26-7e71e6e6635b",
   "metadata": {},
   "outputs": [
    {
     "name": "stdout",
     "output_type": "stream",
     "text": [
      "[10, 5, 6, 52, 36, 4, 96, 6, 12]\n"
     ]
    }
   ],
   "source": [
    "# 4. Write a Python Program to Split the array and add the first part to the end?\n",
    "\n",
    "def splitbyposition(arr, position=1):\n",
    "    x = arr[:position]\n",
    "    y = arr[position:]\n",
    "    y.extend(x)\n",
    "    return y\n",
    "\n",
    "arr = [12, 10, 5, 6, 52, 36, 4, 96, 6]\n",
    "result = splitbyposition(arr)\n",
    "print(result)"
   ]
  },
  {
   "cell_type": "code",
   "execution_count": 38,
   "id": "e510ef50-21d1-4eff-9634-889edc0826ed",
   "metadata": {},
   "outputs": [
    {
     "name": "stdout",
     "output_type": "stream",
     "text": [
      "True\n"
     ]
    }
   ],
   "source": [
    "# 5. Write a Python Program to check if given array is Monotonic?\n",
    "\n",
    "def is_monotonic(arr):\n",
    "\tx, y = list(), list()\n",
    "\tx.extend(arr)\n",
    "\ty.extend(arr)\n",
    "\tx.sort()\n",
    "\ty.sort(reverse=True)\n",
    "\tif(x == arr or y == arr):\n",
    "\t\treturn True\n",
    "\treturn False\n",
    "\n",
    "arr = [9,8,7,6,5,4,3,2,1]\n",
    "result = is_monotonic(arr)\n",
    "print(result)"
   ]
  },
  {
   "cell_type": "code",
   "execution_count": null,
   "id": "ac58b252-551e-4be4-be5f-7cd45b8ef925",
   "metadata": {},
   "outputs": [],
   "source": []
  }
 ],
 "metadata": {
  "kernelspec": {
   "display_name": "Python 3 (ipykernel)",
   "language": "python",
   "name": "python3"
  },
  "language_info": {
   "codemirror_mode": {
    "name": "ipython",
    "version": 3
   },
   "file_extension": ".py",
   "mimetype": "text/x-python",
   "name": "python",
   "nbconvert_exporter": "python",
   "pygments_lexer": "ipython3",
   "version": "3.10.6"
  }
 },
 "nbformat": 4,
 "nbformat_minor": 5
}
