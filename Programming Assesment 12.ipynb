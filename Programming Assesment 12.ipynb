{
 "cells": [
  {
   "cell_type": "code",
   "execution_count": 12,
   "id": "1d2eb992-dd2e-4559-86f7-554eb0291dba",
   "metadata": {},
   "outputs": [
    {
     "name": "stdout",
     "output_type": "stream",
     "text": [
      "The original dictionary is : {'A': [2, 7, 4, 3], 'B': [6, 16, 85, 35], 'C': [21, 22, 15, 81], 'D': [11, 23, 4]}\n",
      "The unique values list is : [2, 3, 4, 6, 7, 11, 15, 16, 21, 22, 23, 35, 81, 85]\n"
     ]
    }
   ],
   "source": [
    "# 1. Write a Python program to Extract Unique values dictionary values?\n",
    "\n",
    "test_dict = {'A' : [2, 7, 4, 3],\n",
    "\t\t\t'B' : [6, 16, 85, 35],\n",
    "\t\t\t'C' : [21, 22, 15, 81],\n",
    "\t\t\t'D' : [11, 23, 4]}\n",
    "\n",
    "print(\"The original dictionary is : \" + str(test_dict))\n",
    "\n",
    "x=list(test_dict.values())\n",
    "y=[]\n",
    "res=[]\n",
    "for i in x:\n",
    "\ty.extend(i)\n",
    "for i in y:\n",
    "\tif i not in res:\n",
    "\t\tres.append(i)\n",
    "res.sort()\n",
    "\n",
    "print(\"The unique values list is : \" + str(res))\n"
   ]
  },
  {
   "cell_type": "code",
   "execution_count": 13,
   "id": "8fc22bfd-8cb7-400e-8cb9-569e616b1459",
   "metadata": {},
   "outputs": [
    {
     "data": {
      "text/plain": [
       "225"
      ]
     },
     "execution_count": 13,
     "metadata": {},
     "output_type": "execute_result"
    }
   ],
   "source": [
    "# 2. Write a Python program to find the sum of all items in a dictionary?\n",
    "\n",
    "def dict_item(x:dict):\n",
    "    a = x.values()\n",
    "    a = sum(a)\n",
    "    return(a)\n",
    "\n",
    "dic = {\n",
    "    \"a\" : 25,\n",
    "    \"b\" : 25,\n",
    "    \"c\" : 25,\n",
    "    \"d\" : 150\n",
    "}\n",
    "\n",
    "dict_item(dic)\n"
   ]
  },
  {
   "cell_type": "code",
   "execution_count": 14,
   "id": "dc3d7e22-3742-48ea-88ef-ab41002f93df",
   "metadata": {},
   "outputs": [
    {
     "data": {
      "text/plain": [
       "{'a': 25, 'b': 25, 'c': 25, 'd': 150, 'e': 55, 'f': 65, 'g': 23, 'h': 10}"
      ]
     },
     "execution_count": 14,
     "metadata": {},
     "output_type": "execute_result"
    }
   ],
   "source": [
    "# 3. Write a Python program to Merging two Dictionaries?\n",
    "\n",
    "def merge_two_dicts(x, y):\n",
    "    z = x.copy()\n",
    "    z.update(y)\n",
    "    return z\n",
    "\n",
    "dic1 = {\n",
    "    \"a\" : 25,\n",
    "    \"b\" : 25,\n",
    "    \"c\" : 25,\n",
    "    \"d\" : 150\n",
    "}\n",
    "\n",
    "dic2 = {\n",
    "    \"e\" : 55,\n",
    "    \"f\" : 65,\n",
    "    \"g\" : 23,\n",
    "    \"h\" : 10\n",
    "}\n",
    "\n",
    "merge_two_dicts(dic1, dic2)\n"
   ]
  },
  {
   "cell_type": "code",
   "execution_count": 15,
   "id": "7866ca89-dd98-4f43-a385-28dc160e2168",
   "metadata": {},
   "outputs": [
    {
     "name": "stdout",
     "output_type": "stream",
     "text": [
      "The original dictionary is : {'month': [1, 2, 3], 'name': ['Jan', 'Feb', 'March']}\n",
      "Flattened dictionary : {1: 'Jan', 2: 'Feb', 3: 'March'}\n"
     ]
    }
   ],
   "source": [
    "# 4. Write a Python program to convert key-values list to flat dictionary?\n",
    "\n",
    "test_dict = {'month' : [1, 2, 3],\n",
    "\t\t\t'name' : ['Jan', 'Feb', 'March']}\n",
    "\n",
    "print(\"The original dictionary is : \" + str(test_dict))\n",
    "\n",
    "res = {}\n",
    "for i in range(len(test_dict['month'])):\n",
    "\tres[test_dict['month'][i]] = test_dict['name'][i]\n",
    "\n",
    "print(\"Flattened dictionary : \" + str(res))"
   ]
  },
  {
   "cell_type": "code",
   "execution_count": 16,
   "id": "bec1f684-f612-462a-9cf4-704fe8aa4364",
   "metadata": {},
   "outputs": [
    {
     "name": "stdout",
     "output_type": "stream",
     "text": [
      "Resultant Dictionary : {'D': '400', 'a': 25, 'b': 25, 'c': 25, 'd': 150}\n"
     ]
    }
   ],
   "source": [
    "# Write a Python program to insertion at the beginning in OrderedDict?\n",
    "from collections import OrderedDict\n",
    "dict1 = OrderedDict([('A', '100'), ('B', '200'), ('C', '300')])\n",
    "insrt = OrderedDict([(\"D\", '400')])\n",
    "  \n",
    "final = OrderedDict(list(insrt.items()) + list(dic1.items()))\n",
    "  \n",
    "print (\"Resultant Dictionary :\", dict(final))"
   ]
  },
  {
   "cell_type": "code",
   "execution_count": 17,
   "id": "3b5727d9-700d-4633-a0e3-23002ec9adf0",
   "metadata": {},
   "outputs": [
    {
     "name": "stdout",
     "output_type": "stream",
     "text": [
      "True\n",
      "False\n"
     ]
    }
   ],
   "source": [
    "# Write a Python program to check order of character in string using OrderedDict()?\n",
    "\n",
    "from collections import OrderedDict \n",
    "def check_Order(string, pattern): \n",
    "    dic = OrderedDict.fromkeys(string) \n",
    "    ptr = 0\n",
    "    for key,value in dic.items(): \n",
    "        if (key == pattern[ptr]): \n",
    "            ptr = ptr + 1\n",
    "        if (ptr == (len(pattern))): \n",
    "            return 'True'\n",
    "    return 'False'\n",
    "\n",
    "string = 'Shaikh Saif'\n",
    "pattern = 'Sh'\n",
    "print (check_Order(string,pattern))\n",
    "\n",
    "string2= 'Shaikh Saif'\n",
    "pattern2= 'sd'\n",
    "print (check_Order(string2,pattern2)) "
   ]
  },
  {
   "cell_type": "code",
   "execution_count": 18,
   "id": "deac9a0e-0694-40fa-9185-0bc97373e99a",
   "metadata": {},
   "outputs": [
    {
     "data": {
      "text/plain": [
       "{'apple': 1,\n",
       " 'rajnish': 9,\n",
       " 'ravi': 10,\n",
       " 'saif': 20,\n",
       " 'sanjeev': 15,\n",
       " 'suraj': 32,\n",
       " 'yash': 2}"
      ]
     },
     "execution_count": 18,
     "metadata": {},
     "output_type": "execute_result"
    }
   ],
   "source": [
    "# 7. Write a Python program to sort Python Dictionaries by Key or Value?\n",
    "\n",
    "#I choice sort dictionaries by keys \n",
    "def sort_by_key(x): \n",
    "    my_key = list(x.keys())\n",
    "    my_key.sort()\n",
    "    y = {i:x[i] for i in my_key}\n",
    "    return y\n",
    "\n",
    "\n",
    "myDict = {'ravi': 10, 'rajnish': 9,\n",
    "\t\t'sanjeev': 15, 'yash': 2, 'suraj': 32, 'saif':20, 'apple':1}\n",
    "\n",
    "sort_by_key(myDict)\n"
   ]
  }
 ],
 "metadata": {
  "kernelspec": {
   "display_name": "Python 3 (ipykernel)",
   "language": "python",
   "name": "python3"
  },
  "language_info": {
   "codemirror_mode": {
    "name": "ipython",
    "version": 3
   },
   "file_extension": ".py",
   "mimetype": "text/x-python",
   "name": "python",
   "nbconvert_exporter": "python",
   "pygments_lexer": "ipython3",
   "version": "3.10.6"
  }
 },
 "nbformat": 4,
 "nbformat_minor": 5
}
