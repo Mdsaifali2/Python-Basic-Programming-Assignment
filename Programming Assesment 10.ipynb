{
 "cells": [
  {
   "cell_type": "code",
   "execution_count": 23,
   "id": "6479a354-0ee7-49d5-b647-99d33cbe24a3",
   "metadata": {},
   "outputs": [
    {
     "name": "stdin",
     "output_type": "stream",
     "text": [
      "How many value you want enter :  5\n",
      " 544\n",
      " 545\n",
      " 65\n",
      " 748\n",
      " 54\n"
     ]
    },
    {
     "name": "stdout",
     "output_type": "stream",
     "text": [
      "[544, 545, 65, 748, 54]\n",
      "1956\n"
     ]
    }
   ],
   "source": [
    "# 1. Write a Python program to find sum of elements in list?\n",
    "\n",
    "def listsum(s) -> int:\n",
    "    res = 0\n",
    "    for i in s:\n",
    "        res+=i\n",
    "    return res\n",
    "\n",
    "n = list()\n",
    "x = int(input(\"How many value you want enter : \"))\n",
    "for i in range(x):\n",
    "    a = int(input())\n",
    "    n.append(a)\n",
    "    \n",
    "result = listsum(n)\n",
    "print(result)"
   ]
  },
  {
   "cell_type": "code",
   "execution_count": 25,
   "id": "c08a026b-628d-4981-8d60-474cdd1fca08",
   "metadata": {},
   "outputs": [
    {
     "name": "stdin",
     "output_type": "stream",
     "text": [
      "How many value you want enter :  5\n",
      " 2\n",
      " 3\n",
      " 4\n",
      " 5\n",
      " 6\n"
     ]
    },
    {
     "name": "stdout",
     "output_type": "stream",
     "text": [
      "720\n"
     ]
    }
   ],
   "source": [
    "# 2. Write a Python program to Multiply all numbers in the list?\n",
    "\n",
    "def listmul(s) -> int:\n",
    "    res = 1\n",
    "    for i in s:\n",
    "        res*=i\n",
    "    return res\n",
    "\n",
    "n = list()\n",
    "x = int(input(\"How many value you want enter : \"))\n",
    "for i in range(x):\n",
    "    a = int(input())\n",
    "    n.append(a)\n",
    "    \n",
    "result = listmul(n)\n",
    "print(result)"
   ]
  },
  {
   "cell_type": "code",
   "execution_count": 33,
   "id": "33402b69-33aa-4ce6-84ab-2ec89b217154",
   "metadata": {},
   "outputs": [
    {
     "name": "stdin",
     "output_type": "stream",
     "text": [
      "How many value you want enter :  5\n",
      " 10\n",
      " 25\n",
      " 64\n",
      " 1\n",
      " 25\n"
     ]
    },
    {
     "name": "stdout",
     "output_type": "stream",
     "text": [
      "1 is the smallest number in the whole list\n"
     ]
    }
   ],
   "source": [
    "### 3. Write a Python program to find smallest number in a list?\n",
    "\n",
    "def findsmall(s) -> int:\n",
    "    small = s[0]\n",
    "    for i in s:\n",
    "        if i<small:\n",
    "            small = i\n",
    "    return small\n",
    "\n",
    "n = list()\n",
    "x = int(input(\"How many value you want enter : \"))\n",
    "for i in range(x):\n",
    "    a = int(input())\n",
    "    n.append(a)\n",
    "    \n",
    "result = findsmall(n)\n",
    "print(result, \"is the smallest number in the whole list\")"
   ]
  },
  {
   "cell_type": "code",
   "execution_count": 34,
   "id": "c02d7ba4-b95a-46d2-b586-b7611b79598b",
   "metadata": {},
   "outputs": [
    {
     "name": "stdin",
     "output_type": "stream",
     "text": [
      "How many value you want enter :  5\n",
      " 1\n",
      " 25\n",
      " 45\n",
      " 54\n",
      " 456\n"
     ]
    },
    {
     "name": "stdout",
     "output_type": "stream",
     "text": [
      "456 is the smallest number in the whole list\n"
     ]
    }
   ],
   "source": [
    "# 4. Write a Python program to find largest number in a list?\n",
    "\n",
    "def findlarge(s) -> int:\n",
    "    large = s[0]\n",
    "    for i in s:\n",
    "        if i>large:\n",
    "            large = i\n",
    "    return large\n",
    "\n",
    "n = list()\n",
    "x = int(input(\"How many value you want enter : \"))\n",
    "for i in range(x):\n",
    "    a = int(input())\n",
    "    n.append(a)\n",
    "    \n",
    "result = findlarge(n)\n",
    "print(result, \"is the largest number in the whole list\")"
   ]
  },
  {
   "cell_type": "code",
   "execution_count": 41,
   "id": "8f13593f-5a17-4b59-9411-9b213345d096",
   "metadata": {},
   "outputs": [
    {
     "name": "stdin",
     "output_type": "stream",
     "text": [
      "How many value you want enter :  10\n",
      " 10\n",
      " 20\n",
      " 30\n",
      " 40\n",
      " 50\n",
      " 60\n",
      " 70\n",
      " 80\n",
      " 90\n",
      " 100\n"
     ]
    },
    {
     "name": "stdout",
     "output_type": "stream",
     "text": [
      "90 is the Second largest number in the whole list\n"
     ]
    }
   ],
   "source": [
    "# 5. Write a Python program to find second largest number in a list?\n",
    "def findslarge(s) -> int:\n",
    "    large = s[0]\n",
    "    for i in s:\n",
    "        if i>large:\n",
    "            large = i\n",
    "    s.sort()\n",
    "    large= s[-2]\n",
    "    return large\n",
    "        \n",
    "\n",
    "n = list()\n",
    "x = int(input(\"How many value you want enter : \"))\n",
    "for i in range(x):\n",
    "    a = int(input())\n",
    "    n.append(a)\n",
    "    \n",
    "result = findslarge(n)\n",
    "print(result, \"is the Second largest number in the whole list\")"
   ]
  },
  {
   "cell_type": "code",
   "execution_count": 46,
   "id": "ce0253e5-0178-4c8d-a6c9-a5d70a008f5d",
   "metadata": {},
   "outputs": [
    {
     "name": "stdin",
     "output_type": "stream",
     "text": [
      "How many value you want enter :  5\n",
      " 10\n",
      " 20\n",
      " 30\n",
      " 40\n",
      " 50\n",
      "How many largest number you want from the list :  2\n"
     ]
    },
    {
     "name": "stdout",
     "output_type": "stream",
     "text": [
      "[40, 50] is the largest number in the whole list\n"
     ]
    }
   ],
   "source": [
    "# 6. Write a Python program to find N largest elements from a list?\n",
    "def findNlarge(s) ->list:\n",
    "    s.sort()\n",
    "    n = int(input(\"How many largest number you want from the list : \"))\n",
    "    x = s[-n:]\n",
    "    return x\n",
    "    \n",
    "n = list()\n",
    "x = int(input(\"How many value you want enter : \"))\n",
    "for i in range(x):\n",
    "    a = int(input())\n",
    "    n.append(a)\n",
    "    \n",
    "result = findNlarge(n)\n",
    "print(result, \"is the largest number in the whole list\")"
   ]
  },
  {
   "cell_type": "code",
   "execution_count": null,
   "id": "b9ac7db2-faeb-47cc-bb26-b161f7ca8d30",
   "metadata": {},
   "outputs": [
    {
     "name": "stdin",
     "output_type": "stream",
     "text": [
      "How many value you want enter :  10\n",
      " 2\n",
      " 4\n",
      " 564\n",
      " 46\n",
      " 65\n",
      " 47\n",
      " 9\n",
      " 8\n",
      " 7\n",
      " 6\n"
     ]
    },
    {
     "name": "stdout",
     "output_type": "stream",
     "text": [
      "[2, 4, 564, 46, 8, 6] is the even number in the whole list\n"
     ]
    }
   ],
   "source": [
    "# 7. Write a Python program to print even numbers in a list?\n",
    "\n",
    "def evenlist(s)->list:\n",
    "    result = list()\n",
    "    for i in s:\n",
    "        if i%2==0:\n",
    "            result.append(i)\n",
    "    return result\n",
    "\n",
    "\n",
    "n = list()\n",
    "x = int(input(\"How many value you want enter : \"))\n",
    "for i in range(x):\n",
    "    a = int(input())\n",
    "    n.append(a)\n",
    "\n",
    "result = evenlist(n)\n",
    "print(result, \"is the even number in the whole list\")"
   ]
  },
  {
   "cell_type": "code",
   "execution_count": 48,
   "id": "d68d02f6-d78c-49b1-8883-2d5cb30690cd",
   "metadata": {},
   "outputs": [
    {
     "name": "stdin",
     "output_type": "stream",
     "text": [
      "How many value you want enter :  10\n",
      " 2\n",
      " 4\n",
      " 564\n",
      " 46\n",
      " 65\n",
      " 47\n",
      " 9\n",
      " 8\n",
      " 7\n",
      " 6\n"
     ]
    },
    {
     "name": "stdout",
     "output_type": "stream",
     "text": [
      "[65, 47, 9, 7] is the even number in the whole list\n"
     ]
    }
   ],
   "source": [
    "# 8. Write a Python program to print odd numbers in a List?\n",
    "\n",
    "def oddlist(s)->list:\n",
    "    result = list()\n",
    "    for i in s:\n",
    "        if i%2!=0:\n",
    "            result.append(i)\n",
    "    return result\n",
    "\n",
    "\n",
    "n = list()\n",
    "x = int(input(\"How many value you want enter : \"))\n",
    "for i in range(x):\n",
    "    a = int(input())\n",
    "    n.append(a)\n",
    "\n",
    "result = oddlist(n)\n",
    "print(result, \"is the even number in the whole list\")"
   ]
  },
  {
   "cell_type": "code",
   "execution_count": 53,
   "id": "2f93b179-e951-48cf-a836-634886840f4b",
   "metadata": {},
   "outputs": [
    {
     "name": "stdout",
     "output_type": "stream",
     "text": [
      "[10, 23, 45, [56, 67], 90]\n",
      "[10, 23, 45, [56, 67], 90]\n"
     ]
    }
   ],
   "source": [
    "# 9. Write a Python program to Remove empty List from List?\n",
    "\n",
    "def rem_empty(s):\n",
    "    res = list()\n",
    "    for elem in s :\n",
    "        if elem:\n",
    "            res.append(elem)\n",
    "    return res\n",
    "        \n",
    "lst = [10, [], 23, [], [], 45, [56, 67], [], 90, []]\n",
    "result = rem_empty(lst)\n",
    "print(result)"
   ]
  },
  {
   "cell_type": "code",
   "execution_count": 68,
   "id": "87a7b320-8222-4316-9221-6c4696f0b67c",
   "metadata": {},
   "outputs": [
    {
     "name": "stdout",
     "output_type": "stream",
     "text": [
      "[10, 23, 45, [56, 67], 90]\n"
     ]
    }
   ],
   "source": [
    "# 10. Write a Python program to Cloning or Copying a list?\n",
    "\n",
    "def copylist(s)-> list:\n",
    "    result = list()\n",
    "    for i in s:\n",
    "        result.append(i)\n",
    "    return result\n",
    "\n",
    "lst = [10,23,45, [56, 67], 90]\n",
    "clone = copylist(lst)\n",
    "print(clone)"
   ]
  },
  {
   "cell_type": "code",
   "execution_count": 72,
   "id": "8130c26c-1d36-47a0-bf76-bddd450261ac",
   "metadata": {},
   "outputs": [
    {
     "name": "stdout",
     "output_type": "stream",
     "text": [
      "13\n"
     ]
    }
   ],
   "source": [
    "# 11. Write a Python program to Count occurrences of an element in a list?\n",
    "\n",
    "def countoccurence(s)-> int:\n",
    "    n = 0\n",
    "    for i in s:\n",
    "        n = n+1\n",
    "    return n\n",
    "\n",
    "lst = [10,23,20,5,6,5,87,9,94,45, 56, 67, 90]\n",
    "clone = countoccurence(lst)\n",
    "print(clone)"
   ]
  },
  {
   "cell_type": "code",
   "execution_count": null,
   "id": "5b6ffcf5-6815-4cb4-a0db-f13566a88b39",
   "metadata": {},
   "outputs": [],
   "source": []
  }
 ],
 "metadata": {
  "kernelspec": {
   "display_name": "Python 3 (ipykernel)",
   "language": "python",
   "name": "python3"
  },
  "language_info": {
   "codemirror_mode": {
    "name": "ipython",
    "version": 3
   },
   "file_extension": ".py",
   "mimetype": "text/x-python",
   "name": "python",
   "nbconvert_exporter": "python",
   "pygments_lexer": "ipython3",
   "version": "3.10.6"
  }
 },
 "nbformat": 4,
 "nbformat_minor": 5
}
