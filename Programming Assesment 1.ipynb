{
 "cells": [
  {
   "cell_type": "code",
   "execution_count": 2,
   "id": "44a0690b-4bd4-4c37-a8ea-7fdbfbf323ed",
   "metadata": {},
   "outputs": [
    {
     "name": "stdout",
     "output_type": "stream",
     "text": [
      "Hello Python\n"
     ]
    }
   ],
   "source": [
    "# 1. Write a Python program to print \"Hello Python\"?\n",
    "def hello_python():\n",
    "    print(\"Hello Python\")\n",
    "hello_python()    "
   ]
  },
  {
   "cell_type": "code",
   "execution_count": 21,
   "id": "cceb6fc1-e9d1-45f3-b0a0-d68c7f41b135",
   "metadata": {},
   "outputs": [
    {
     "name": "stdin",
     "output_type": "stream",
     "text": [
      "Enter number 1 :  10\n",
      "Enter number 2 :  20\n"
     ]
    },
    {
     "name": "stdout",
     "output_type": "stream",
     "text": [
      "30.0\n"
     ]
    },
    {
     "name": "stdin",
     "output_type": "stream",
     "text": [
      "Enter number 1 :  20\n",
      "Enter number 2 :  10\n"
     ]
    },
    {
     "name": "stdout",
     "output_type": "stream",
     "text": [
      "2.0\n"
     ]
    }
   ],
   "source": [
    "# 2. Write a Python program to do arithmetical operations addition and division.?\n",
    "\n",
    "def addition():\n",
    "    try:\n",
    "        a = input(\"Enter number 1 : \")\n",
    "        b = input(\"Enter number 2 : \")\n",
    "        n = float(a) + float(b)\n",
    "        print(n)\n",
    "    except Exception as e:\n",
    "        print(\"Enter valid input\")\n",
    "\n",
    "def division():\n",
    "    try:\n",
    "        a = input(\"Enter number 1 : \")\n",
    "        b = input(\"Enter number 2 : \")\n",
    "        n = float(a) / float(b)\n",
    "        print(n)\n",
    "    except ZeroDivisionError as e:\n",
    "        print(\"Input not to be zero\")\n",
    "    except Exception as e:\n",
    "        print(\"Enter valid input\")\n",
    "\n",
    "addition()        \n",
    "division()"
   ]
  },
  {
   "cell_type": "code",
   "execution_count": 26,
   "id": "4a9df0dc-344c-438b-ae3e-57e111d0194c",
   "metadata": {},
   "outputs": [
    {
     "name": "stdin",
     "output_type": "stream",
     "text": [
      "Enter the base of the triangle :  20\n",
      "Enter the height of the triangle :  10\n"
     ]
    },
    {
     "name": "stdout",
     "output_type": "stream",
     "text": [
      "The area of the triangle is: 100.0\n"
     ]
    }
   ],
   "source": [
    "# 3. Write a Python program to find the area of a triangle?\n",
    "def triangle_area():\n",
    "    try:\n",
    "        base = float(input(\"Enter the base of the triangle : \"))\n",
    "        height = float(input(\"Enter the height of the triangle : \"))\n",
    "\n",
    "        area = 0.5 * base * height\n",
    "\n",
    "        print(\"The area of the triangle is:\", area)\n",
    "        \n",
    "    except ValueError:\n",
    "        print(\"Invalid input. Please check and enter again..\")\n",
    "        \n",
    "triangle_area()\n",
    "        "
   ]
  },
  {
   "cell_type": "code",
   "execution_count": 42,
   "id": "68ea54d4-9e9b-47a7-8cfb-e1748fae347b",
   "metadata": {},
   "outputs": [
    {
     "name": "stdin",
     "output_type": "stream",
     "text": [
      "Enter value of a :  10\n",
      "Enter value of b :  20\n"
     ]
    },
    {
     "name": "stdout",
     "output_type": "stream",
     "text": [
      "Before Swapping\n",
      "value of a :  10 value of b :  20\n",
      "After Swapping\n",
      "value of a :  20 value of b :  10\n"
     ]
    }
   ],
   "source": [
    "### 4. Write a Python program to swap two variables?\n",
    "\n",
    "def swapping(a ,b):\n",
    "    a, b  = b, a\n",
    "    return a, b\n",
    "\n",
    "a = input(\"Enter value of a : \")\n",
    "b = input(\"Enter value of b : \")\n",
    "\n",
    "print(\"Before Swapping\")\n",
    "print(\"value of a : \", a ,\"value of b : \",b)\n",
    "\n",
    "a,b = swapping(a, b)\n",
    "print(\"After Swapping\")\n",
    "print(\"value of a : \", a ,\"value of b : \",b)\n"
   ]
  },
  {
   "cell_type": "code",
   "execution_count": null,
   "id": "3aa63d00-c49a-40b6-8595-ce218db5036f",
   "metadata": {},
   "outputs": [],
   "source": [
    "# 5. Write a Python program to generate a random number?\n",
    "def num_generator():\n",
    "    import random\n",
    "    a = random.randint(0, 10000)\n",
    "    return a\n",
    "\n",
    "num = num_generator()\n",
    "print(num)"
   ]
  }
 ],
 "metadata": {
  "kernelspec": {
   "display_name": "Python 3 (ipykernel)",
   "language": "python",
   "name": "python3"
  },
  "language_info": {
   "codemirror_mode": {
    "name": "ipython",
    "version": 3
   },
   "file_extension": ".py",
   "mimetype": "text/x-python",
   "name": "python",
   "nbconvert_exporter": "python",
   "pygments_lexer": "ipython3",
   "version": "3.10.6"
  }
 },
 "nbformat": 4,
 "nbformat_minor": 5
}
