{
 "cells": [
  {
   "cell_type": "code",
   "execution_count": 6,
   "id": "a95c3145-d196-4ffe-910a-885bca3442b5",
   "metadata": {},
   "outputs": [
    {
     "name": "stdin",
     "output_type": "stream",
     "text": [
      "Enter 1st Number :  10\n",
      "Enter 2nd Number :  5\n"
     ]
    },
    {
     "name": "stdout",
     "output_type": "stream",
     "text": [
      "The L.C.M. is 10\n"
     ]
    }
   ],
   "source": [
    "# 1. Write a Python Program to Find LCM?\n",
    "\n",
    "def find_lcm(x, y):\n",
    "    try :\n",
    "        if x > y:\n",
    "            greater = x\n",
    "        else:\n",
    "            greater = y\n",
    "\n",
    "        while(True):\n",
    "            if((greater % x == 0) and (greater % y == 0)):\n",
    "                lcm = greater\n",
    "                break\n",
    "            greater += 1\n",
    "        return lcm\n",
    "    \n",
    "    except Exception as e:\n",
    "        print(\"Something went wrong.\", e)\n",
    "\n",
    "num1 = int(input(\"Enter 1st Number : \"))\n",
    "num2 = int(input(\"Enter 2nd Number : \"))\n",
    "\n",
    "print(\"The L.C.M. is\", find_lcm(num1, num2))"
   ]
  },
  {
   "cell_type": "code",
   "execution_count": 7,
   "id": "e8986e9b-d19b-4e3d-849a-139b7f6c42ce",
   "metadata": {},
   "outputs": [
    {
     "name": "stdin",
     "output_type": "stream",
     "text": [
      "Enter 1st Number :  25\n",
      "Enter 2nd Number :  10\n"
     ]
    },
    {
     "name": "stdout",
     "output_type": "stream",
     "text": [
      "GCD of 25 and 10 is 5\n"
     ]
    }
   ],
   "source": [
    "# 2. Write a Python Program to Find HCF?\n",
    "\n",
    "def gcd(a, b):\n",
    "    try :\n",
    "        result = min(a, b)\n",
    "\n",
    "        while result:\n",
    "            if a % result == 0 and b % result == 0:\n",
    "                break\n",
    "            result -= 1\n",
    "\n",
    "        return result\n",
    "    except Exception as e:\n",
    "        print(e)\n",
    "    \n",
    "    \n",
    "num1 = int(input(\"Enter 1st Number : \"))\n",
    "num2 = int(input(\"Enter 2nd Number : \"))\n",
    "\n",
    "print(f\"GCD of {num1} and {num2} is {gcd(num1, num2)}\")"
   ]
  },
  {
   "cell_type": "code",
   "execution_count": 28,
   "id": "3cba45f0-5bb4-42d9-9759-c361b203f2ea",
   "metadata": {},
   "outputs": [
    {
     "name": "stdin",
     "output_type": "stream",
     "text": [
      "Enter character to get ascii value :  a\n"
     ]
    },
    {
     "name": "stdout",
     "output_type": "stream",
     "text": [
      "a ( 97 )\n"
     ]
    }
   ],
   "source": [
    "# 4. Write a Python Program To Find ASCII value of a character?\n",
    "\n",
    "def To_ASCII(N):\n",
    "    try :\n",
    "        num = str(N)\n",
    "        i = 0\n",
    "\n",
    "        for ch in num:\n",
    "            print(ch, \"(\", ord(ch), \")\")\n",
    "    \n",
    "    except Exceptio as e:\n",
    "        print(\"Please check and try again..\")\n",
    "\n",
    "        \n",
    "N = input(\"Enter character to get ascii value : \")\n",
    "To_ASCII(N)\n"
   ]
  },
  {
   "cell_type": "code",
   "execution_count": 32,
   "id": "74f9c4f5-565e-49cc-addf-453aec8c7f93",
   "metadata": {},
   "outputs": [
    {
     "name": "stdout",
     "output_type": "stream",
     "text": [
      "Select operation.\n",
      "1.Add\n",
      "2.Subtract\n",
      "3.Multiply\n",
      "4.Divide\n"
     ]
    },
    {
     "name": "stdin",
     "output_type": "stream",
     "text": [
      "Enter choice (1/2/3/4) :  1\n",
      "Enter first number:  250\n",
      "Enter second number:  6545\n"
     ]
    },
    {
     "name": "stdout",
     "output_type": "stream",
     "text": [
      "250.0 + 6545.0 = 6795.0\n"
     ]
    }
   ],
   "source": [
    "# 5. Write a Python Program to Make a Simple Calculator with 4 basic mathematical operations?\n",
    "def calculator():\n",
    "    try : \n",
    "        def add(x, y):\n",
    "            return x + y\n",
    "\n",
    "        def subtract(x, y):\n",
    "            return x - y\n",
    "\n",
    "        def multiply(x, y):\n",
    "            return x * y\n",
    "\n",
    "        def divide(x, y):\n",
    "            return x / y\n",
    "\n",
    "        print(\"Select operation.\")\n",
    "        print(\"1.Add\")\n",
    "        print(\"2.Subtract\")\n",
    "        print(\"3.Multiply\")\n",
    "        print(\"4.Divide\")\n",
    "\n",
    "        choice = input(\"Enter choice (1/2/3/4) : \")\n",
    "\n",
    "        num1 = float(input(\"Enter first number: \"))\n",
    "        num2 = float(input(\"Enter second number: \"))\n",
    "\n",
    "        if choice == '1':\n",
    "            print(num1, \"+\", num2, \"=\", add(num1,num2))\n",
    "\n",
    "        elif choice == '2':\n",
    "            print(num1, \"-\", num2, \"=\", subtract(num1,num2))\n",
    "\n",
    "        elif choice == '3':\n",
    "            print(num1, \"*\", num2, \"=\", multiply(num1,num2))\n",
    "\n",
    "        elif choice == '4':\n",
    "            print(num1, \"/\", num2, \"=\", divide(num1,num2))\n",
    "\n",
    "        else:\n",
    "            print(\"Invalid input\")\n",
    "    \n",
    "    except Exception as e:\n",
    "        print(e)\n",
    "\n",
    "calculator()        "
   ]
  }
 ],
 "metadata": {
  "kernelspec": {
   "display_name": "Python 3 (ipykernel)",
   "language": "python",
   "name": "python3"
  },
  "language_info": {
   "codemirror_mode": {
    "name": "ipython",
    "version": 3
   },
   "file_extension": ".py",
   "mimetype": "text/x-python",
   "name": "python",
   "nbconvert_exporter": "python",
   "pygments_lexer": "ipython3",
   "version": "3.10.6"
  }
 },
 "nbformat": 4,
 "nbformat_minor": 5
}
