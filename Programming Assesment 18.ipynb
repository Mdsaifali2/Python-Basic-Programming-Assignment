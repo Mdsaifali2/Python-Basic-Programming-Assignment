{
 "cells": [
  {
   "cell_type": "code",
   "execution_count": 12,
   "id": "6e83a4be-8e57-4064-b870-b1eb37c51547",
   "metadata": {},
   "outputs": [
    {
     "name": "stdout",
     "output_type": "stream",
     "text": [
      "[1, 2, 123]\n"
     ]
    }
   ],
   "source": [
    "# Question 1\n",
    "# Create a function that takes a list of non-negative integers and strings and return a new list\n",
    "# without the strings.\n",
    "# Examples\n",
    "# filter_list([1, 2, 'a', 'b']) ➞ [1, 2]\n",
    "# filter_list([1, 'a', 'b', 0, 15]) ➞ [1, 0, 15]\n",
    "# filter_list([1, 2, 'aasf', '1', '123', 123]) ➞ [1, 2, 123]\n",
    "\n",
    "def filterList(l1):\n",
    "    nums = [i for i in l1 if type(i)!=str]\n",
    "    return nums\n",
    "\n",
    "\n",
    "lis = [1, 2, 'aasf', '1', '123', 123]\n",
    "r = filterList(lis)\n",
    "print(r)"
   ]
  },
  {
   "cell_type": "code",
   "execution_count": 22,
   "id": "3311da5b-79d6-48f5-b2d3-71cd2923b46f",
   "metadata": {},
   "outputs": [
    {
     "data": {
      "text/plain": [
       "'eSrEvEr'"
      ]
     },
     "execution_count": 22,
     "metadata": {},
     "output_type": "execute_result"
    }
   ],
   "source": [
    "# Question 2\n",
    "# The 'Reverser' takes a string as input and returns that string in reverse order, with the\n",
    "# opposite case.\n",
    "# Examples\n",
    "# reverse('Hello World') ➞ 'DLROw OLLEh'\n",
    "# reverse('ReVeRsE') ➞ 'eSrEvEr'\n",
    "# reverse('Radar') ➞ 'RADAr'\n",
    "\n",
    "def Reverser(string):\n",
    "    result = string[::-1]\n",
    "    result = result.swapcase()\n",
    "    return result\n",
    "\n",
    "Reverser(\"ReVeRsE\")\n"
   ]
  },
  {
   "cell_type": "code",
   "execution_count": 25,
   "id": "2fb4489e-8a98-4ff2-8481-5e1ed66b007a",
   "metadata": {},
   "outputs": [
    {
     "name": "stdout",
     "output_type": "stream",
     "text": [
      "1\n",
      "[2, 3, 4, 5]\n",
      "6\n"
     ]
    }
   ],
   "source": [
    "# Question 3\n",
    "# You can assign variables from lists like this:\n",
    "# lst = [1, 2, 3, 4, 5, 6]\n",
    "# first = lst[0]\n",
    "# middle = lst[1:-1]\n",
    "# last = lst[-1]\n",
    "# print(first) ➞ outputs 1\n",
    "# print(middle) ➞ outputs [2, 3, 4, 5]\n",
    "# print(last) ➞ outputs 6\n",
    "# With Python 3, you can assign variables from lists in a much more succinct way. Create\n",
    "# variables first, middle and last from the given list using destructuring assignment\n",
    "# (check the Resources tab for some examples), where:\n",
    "# first ➞ 1\n",
    "# middle ➞ [2, 3, 4, 5]\n",
    "# last ➞ 6\n",
    "\n",
    "# Your task is to unpack the list writeyourcodehere into three variables, being first,\n",
    "# middle, and last, with middle being everything in between the first and last element. Then\n",
    "# print all three variables.\n",
    "\n",
    "def unpackList(lst):\n",
    "    first = lst[0]\n",
    "    middle = lst[1:-1]\n",
    "    last = lst[-1]\n",
    "    return first, middle, last\n",
    "\n",
    "first, middle, last = unpackList([1, 2, 3, 4, 5, 6])\n",
    "print(first)\n",
    "print(middle)\n",
    "print(last)"
   ]
  },
  {
   "cell_type": "code",
   "execution_count": 26,
   "id": "b214c5d0-ac78-4fc5-87a7-bae631fad273",
   "metadata": {},
   "outputs": [
    {
     "data": {
      "text/plain": [
       "120"
      ]
     },
     "execution_count": 26,
     "metadata": {},
     "output_type": "execute_result"
    }
   ],
   "source": [
    "# Question 4\n",
    "# Write a function that calculates the factorial of a number recursively.\n",
    "# Examples\n",
    "# factorial(5) ➞ 120\n",
    "# factorial(3) ➞ 6\n",
    "# factorial(1) ➞ 1\n",
    "# factorial(0) ➞ 1\n",
    "\n",
    "\n",
    "\n",
    "def factorial(n):\n",
    "    if n == 0 or n ==1:\n",
    "        return 1\n",
    "    else:\n",
    "        return n* factorial(n-1)\n",
    "\n",
    "factorial(5)\n"
   ]
  },
  {
   "cell_type": "code",
   "execution_count": 18,
   "id": "02706630-bbe4-44a9-b06a-648b449edf88",
   "metadata": {},
   "outputs": [],
   "source": [
    "# Write a function that moves all elements of one type to the end of the list.\n",
    "# Examples\n",
    "# move_to_end([1, 3, 2, 4, 4, 1], 1) ➞ [3, 2, 4, 4, 1, 1]\n",
    "# # Move all the 1s to the end of the array.\n",
    "# move_to_end([7, 8, 9, 1, 2, 3, 4], 9) ➞ [7, 8, 1, 2, 3, 4, 9]\n",
    "# move_to_end(['a', 'a', 'a', 'b'], 'a') ➞ ['b', 'a', 'a', 'a']\n",
    "\n",
    "\n",
    "def move_to_end(array, toMove):\n",
    "    i = 0\n",
    "    j = len(array) - 1\n",
    "    while (i < j):\n",
    "        while (i < j and array[j] == toMove):\n",
    "            j-=1\n",
    "        if (array[i] == toMove):\n",
    "            array[i], array[j] = array[j] , array[i]\n",
    "        i += 1\n",
    "    return array"
   ]
  },
  {
   "cell_type": "code",
   "execution_count": 19,
   "id": "d660f38d-be94-4333-8218-28ea47e88c9c",
   "metadata": {},
   "outputs": [
    {
     "data": {
      "text/plain": [
       "['b', 'a', 'a', 'a']"
      ]
     },
     "execution_count": 19,
     "metadata": {},
     "output_type": "execute_result"
    }
   ],
   "source": [
    "move_to_end(['a', 'a', 'a', 'b'], 'a')"
   ]
  },
  {
   "cell_type": "code",
   "execution_count": 20,
   "id": "c284dbe2-51c7-4227-972a-d904fca223fe",
   "metadata": {},
   "outputs": [
    {
     "data": {
      "text/plain": [
       "[7, 8, 4, 1, 2, 3, 9]"
      ]
     },
     "execution_count": 20,
     "metadata": {},
     "output_type": "execute_result"
    }
   ],
   "source": [
    "move_to_end([7, 8, 9, 1, 2, 3, 4], 9)"
   ]
  },
  {
   "cell_type": "code",
   "execution_count": null,
   "id": "5883e762-b4fe-4d87-bcf3-d4251e00220a",
   "metadata": {},
   "outputs": [],
   "source": []
  }
 ],
 "metadata": {
  "kernelspec": {
   "display_name": "Python 3 (ipykernel)",
   "language": "python",
   "name": "python3"
  },
  "language_info": {
   "codemirror_mode": {
    "name": "ipython",
    "version": 3
   },
   "file_extension": ".py",
   "mimetype": "text/x-python",
   "name": "python",
   "nbconvert_exporter": "python",
   "pygments_lexer": "ipython3",
   "version": "3.10.6"
  }
 },
 "nbformat": 4,
 "nbformat_minor": 5
}
