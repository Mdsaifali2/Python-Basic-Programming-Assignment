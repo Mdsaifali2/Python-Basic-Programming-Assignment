{
 "cells": [
  {
   "cell_type": "code",
   "execution_count": 6,
   "id": "0ecf564b-8579-4cfb-a9d6-db4836500d48",
   "metadata": {},
   "outputs": [
    {
     "name": "stdout",
     "output_type": "stream",
     "text": [
      "[1, 2, 3, 40]\n",
      "[1, 2, 3]\n",
      "[1, 2, 3, 40, 5, 6, 7, 80, 9, 10, 11, 120, 13, 14, 15, 160, 17, 18, 19, 200, 21, 22, 23, 240, 25]\n"
     ]
    }
   ],
   "source": [
    "# Question1\n",
    "# Create a function that takes an integer and returns a list from 1 to the given number, where:\n",
    "# 1. If the number can be divided evenly by 4, amplify it by 10 (i.e. return 10 times the\n",
    "# number).\n",
    "# 2. If the number cannot be divided evenly by 4, simply return the number.\n",
    "# Examples\n",
    "# amplify(4) ➞ [1, 2, 3, 40]\n",
    "# amplify(3) ➞ [1, 2, 3]\n",
    "# amplify(25) ➞ [1, 2, 3, 40, 5, 6, 7, 80, 9, 10, 11, 120, 13, 14, 15, 160,\n",
    "# 17, 18, 19, 200, 21, 22, 23, 240, 25]\n",
    "# Notes\n",
    "#  The given integer will always be equal to or greater than 1.\n",
    "#  Include the number (see example above).\n",
    "#  To perform this problem with its intended purpose, try doing it with list\n",
    "# comprehensions. If that's too difficult, just solve the challenge any way you can.\n",
    "def Amplify(n):\n",
    "    x = [i*10 if i%4==0 else i for i in range(1,n+1)]\n",
    "    return x\n",
    "\n",
    "print(Amplify(4))\n",
    "print(Amplify(3))\n",
    "print(Amplify(25))"
   ]
  },
  {
   "cell_type": "code",
   "execution_count": 14,
   "id": "a4b326ef-b575-42da-80f1-c39da89597a1",
   "metadata": {},
   "outputs": [
    {
     "name": "stdout",
     "output_type": "stream",
     "text": [
      "7\n",
      "0.77\n",
      "0\n"
     ]
    }
   ],
   "source": [
    "# Question2\n",
    "# Create a function that takes a list of numbers and return the number that's unique.\n",
    "# Examples\n",
    "# unique([3, 3, 3, 7, 3, 3]) ➞ 7\n",
    "# unique([0, 0, 0.77, 0, 0]) ➞ 0.77\n",
    "# unique([0, 1, 1, 1, 1, 1, 1, 1]) ➞ 0\n",
    "# Notes\n",
    "# Test cases will always have exactly one unique number while all others are the same.\n",
    "\n",
    "def unique(lst):\n",
    "    for i in lst:\n",
    "        if lst.count(i)<=1:\n",
    "            return i\n",
    "\n",
    "print(unique([3, 3, 3, 7, 3, 3]))\n",
    "print(unique([0, 0, 0.77, 0, 0]))\n",
    "print(unique([0, 1, 1, 1, 1, 1, 1, 1]))"
   ]
  },
  {
   "cell_type": "code",
   "execution_count": 39,
   "id": "4842abe4-36b6-403b-9941-2d51e208d6ca",
   "metadata": {},
   "outputs": [
    {
     "name": "stdout",
     "output_type": "stream",
     "text": [
      "380\n",
      "28\n"
     ]
    }
   ],
   "source": [
    "# Question3\n",
    "# Your task is to create a Circle constructor that creates a circle with a radius provided by an\n",
    "# argument. The circles constructed must have two getters getArea() (PIr^2) and\n",
    "# getPerimeter() (2PI*r) which give both respective areas and perimeter (circumference).\n",
    "\n",
    "# For help with this class, I have provided you with a Rectangle constructor which you can use\n",
    "# as a base example.\n",
    "# Examples\n",
    "# circy = Circle(11)\n",
    "# circy.getArea()\n",
    "# # Should return 380.132711084365\n",
    "# circy = Circle(4.44)\n",
    "# circy.getPerimeter()\n",
    "# # Should return 27.897342763877365\n",
    "# Notes\n",
    "# Round results up to the nearest integer.\n",
    "import math\n",
    "class Circle():\n",
    "    def __init__(self, r):\n",
    "        self.r = r\n",
    "        \n",
    "    def getArea(self):\n",
    "        return round((math.pi*self.r)*self.r)\n",
    "    \n",
    "    def getPerimeter(self):\n",
    "        return round(math.pi*2*self.r)\n",
    "\n",
    "circy = Circle(11)\n",
    "print(circy.getArea())\n",
    "\n",
    "circy = Circle(4.44)\n",
    "print(circy.getPerimeter())\n"
   ]
  },
  {
   "cell_type": "code",
   "execution_count": 4,
   "id": "db7351a1-dc4a-45e2-b271-663d16244005",
   "metadata": {},
   "outputs": [
    {
     "name": "stdout",
     "output_type": "stream",
     "text": [
      "['Apple', 'Google', 'Microsoft']\n",
      "['Raphael', 'Leonardo', 'Donatello', 'Michelangelo']\n",
      "['Jung', 'Turing', 'Einstein']\n"
     ]
    }
   ],
   "source": [
    "# Question4\n",
    "# Create a function that takes a list of strings and return a list, sorted from shortest to longest.\n",
    "# Examples\n",
    "# sort_by_length(['Google', 'Apple', 'Microsoft'])\n",
    "# ➞ ['Apple', 'Google', 'Microsoft']\n",
    "# sort_by_length(['Leonardo', 'Michelangelo', 'Raphael', 'Donatello'])\n",
    "# ➞ ['Raphael', 'Leonardo', 'Donatello', 'Michelangelo']\n",
    "# sort_by_length(['Turing', 'Einstein', 'Jung'])\n",
    "# ➞ ['Jung', 'Turing', 'Einstein']\n",
    "# Notes\n",
    "# All test cases contain lists with strings of different lengths, so you won't have to deal with\n",
    "# multiple strings of the same length.\n",
    "\n",
    "def sortByLength(lis):\n",
    "    return sorted(lis, key=len)\n",
    "\n",
    "print(sortByLength(['Google', 'Apple', 'Microsoft']))\n",
    "print(sortByLength(['Raphael', 'Leonardo', 'Donatello', 'Michelangelo']))\n",
    "print(sortByLength(['Turing', 'Einstein', 'Jung']))"
   ]
  },
  {
   "cell_type": "code",
   "execution_count": 15,
   "id": "800c20f1-d9a6-4a1c-af6b-08b0b1cf5604",
   "metadata": {},
   "outputs": [
    {
     "name": "stdout",
     "output_type": "stream",
     "text": [
      "True\n",
      "True\n",
      "False\n"
     ]
    }
   ],
   "source": [
    "# Question5\n",
    "# Create a function that validates whether three given integers form a Pythagorean triplet. The\n",
    "# sum of the squares of the two smallest integers must equal the square of the largest number to\n",
    "# be validated.\n",
    "\n",
    "# Examples\n",
    "# is_triplet(3, 4, 5) ➞ True\n",
    "# # 3² + 4² = 25\n",
    "# # 5² = 25\n",
    "# is_triplet(13, 5, 12) ➞ True\n",
    "# # 5² + 12² = 169\n",
    "# # 13² = 169\n",
    "# is_triplet(1, 2, 3) ➞ False\n",
    "# # 1² + 2² = 5\n",
    "# # 3² = 9\n",
    "# Notes\n",
    "# Numbers may not be given in a sorted order.\n",
    "\n",
    "def isTriplet(a,b,c):\n",
    "    lst = list()\n",
    "    lst.extend((a,b,c))\n",
    "    lst = sorted(lst)\n",
    "    \n",
    "    if ((lst[0]**2) + (lst[1]**2)) == lst[2]**2:\n",
    "        return True\n",
    "    else:\n",
    "        return False\n",
    "    \n",
    "    \n",
    "    \n",
    "print(isTriplet(3, 4, 5))\n",
    "print(isTriplet(13, 5, 12))\n",
    "print(isTriplet(1, 2, 3))"
   ]
  },
  {
   "cell_type": "code",
   "execution_count": null,
   "id": "d5de5c72-e15e-461a-b1c1-dc85b4485362",
   "metadata": {},
   "outputs": [],
   "source": []
  }
 ],
 "metadata": {
  "kernelspec": {
   "display_name": "Python 3 (ipykernel)",
   "language": "python",
   "name": "python3"
  },
  "language_info": {
   "codemirror_mode": {
    "name": "ipython",
    "version": 3
   },
   "file_extension": ".py",
   "mimetype": "text/x-python",
   "name": "python",
   "nbconvert_exporter": "python",
   "pygments_lexer": "ipython3",
   "version": "3.10.6"
  }
 },
 "nbformat": 4,
 "nbformat_minor": 5
}
