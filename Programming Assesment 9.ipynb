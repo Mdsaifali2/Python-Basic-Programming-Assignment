{
 "cells": [
  {
   "cell_type": "code",
   "execution_count": 32,
   "id": "30acee98-68dc-45f9-9eed-3c46887ea873",
   "metadata": {},
   "outputs": [
    {
     "name": "stdout",
     "output_type": "stream",
     "text": [
      "Disarium Number\n"
     ]
    }
   ],
   "source": [
    "# 1. Write a Python program to check if the given number is a Disarium Number?\n",
    "\n",
    "import math\n",
    "def check(num) :\n",
    "    count = len(str(n))\n",
    "    sum = 0\n",
    "    x = num\n",
    "    while (x!=0) :\n",
    "        # Get the rightmost digit\n",
    "        r = x % 10\n",
    "        # print(r, count_digits)\n",
    "        sum = (int) (sum + math.pow(r, count))\n",
    "        # print(sum,  r,  count_digits)\n",
    "        count = count - 1\n",
    "        x = x//10\n",
    "        # print (x)\n",
    "\n",
    "    if sum == num :\n",
    "        return 1\n",
    "    else :\n",
    "        return 0\n",
    "\n",
    "n = 135\n",
    "if (check(n) == 1) :\n",
    "    print (\"Disarium Number\")\n",
    "else :\n",
    "    print (\"Not a Disarium Number\")\n",
    "\n"
   ]
  },
  {
   "cell_type": "code",
   "execution_count": 40,
   "id": "c40d99d9-a819-4bde-bf58-cf797a3868b8",
   "metadata": {},
   "outputs": [
    {
     "name": "stdout",
     "output_type": "stream",
     "text": [
      "1\n",
      "2\n",
      "3\n",
      "4\n",
      "5\n",
      "6\n",
      "7\n",
      "8\n",
      "9\n",
      "89\n"
     ]
    }
   ],
   "source": [
    "# 2. Write a Python program to print all disarium numbers between 1 to 100?\n",
    "\n",
    "def check(num) :\n",
    "    n = len(str(num))\n",
    "    sum = 0\n",
    "    temp = num\n",
    "    while temp > 0:\n",
    "        digit = temp % 10\n",
    "        sum = sum + (digit ** n)\n",
    "        temp = temp//10\n",
    "        n = n-1\n",
    "\n",
    "    if sum == num :\n",
    "        return True\n",
    "    else :\n",
    "        return False\n",
    "\n",
    "for i in range(1,101):\n",
    "    if check(i):\n",
    "        print(i)"
   ]
  },
  {
   "cell_type": "code",
   "execution_count": 76,
   "id": "d9691fcd-675f-4234-8e3d-7ee8dc5920f8",
   "metadata": {},
   "outputs": [
    {
     "name": "stdin",
     "output_type": "stream",
     "text": [
      "Enter a number:  94\n"
     ]
    },
    {
     "name": "stdout",
     "output_type": "stream",
     "text": [
      "94 is a Happy Number\n"
     ]
    }
   ],
   "source": [
    "# 3. Write a Python program to check if the given number is Happy Number?\n",
    "\n",
    "def isHappy(num):\n",
    "    seen = set()\n",
    "    \n",
    "    while num not in seen:\n",
    "        seen.add(num)\n",
    "        # print(seen)\n",
    "        sum = 0\n",
    "        while num > 0:\n",
    "            digit = num % 10\n",
    "            # print(digit)\n",
    "            sum += digit ** 2\n",
    "            num //= 10\n",
    "        \n",
    "        if sum == 1:\n",
    "            return True\n",
    "\n",
    "        num = sum\n",
    "    return False\n",
    "\n",
    "num = int(input(\"Enter a number: \"))\n",
    "if isHappy(num):\n",
    "    print(num, \"is a Happy Number\")\n",
    "else:\n",
    "    print(num, \"is not a Happy Number\")\n"
   ]
  },
  {
   "cell_type": "code",
   "execution_count": 78,
   "id": "93c92f95-35be-40d5-8d5f-05bd3260932a",
   "metadata": {},
   "outputs": [
    {
     "name": "stdout",
     "output_type": "stream",
     "text": [
      "94 is a Happy Number\n",
      "1\n",
      "7\n",
      "10\n",
      "13\n",
      "19\n",
      "23\n",
      "28\n",
      "31\n",
      "32\n",
      "44\n",
      "49\n",
      "68\n",
      "70\n",
      "79\n",
      "82\n",
      "86\n",
      "91\n",
      "94\n",
      "97\n",
      "100\n"
     ]
    }
   ],
   "source": [
    "# 4. Write a Python program to print all happy numbers between 1 and 100?\n",
    "def isHappy(num):\n",
    "    seen = set()\n",
    "    \n",
    "    while num not in seen:\n",
    "        seen.add(num)\n",
    "        # print(seen)\n",
    "        sum = 0\n",
    "        while num > 0:\n",
    "            digit = num % 10\n",
    "            # print(digit)\n",
    "            sum += digit ** 2\n",
    "            num //= 10\n",
    "        \n",
    "        if sum == 1:\n",
    "            return True\n",
    "\n",
    "        num = sum\n",
    "    return False\n",
    "\n",
    "# num = int(input(\"Enter a number: \"))\n",
    "if isHappy(num):\n",
    "    print(num, \"is a Happy Number\")\n",
    "else:\n",
    "    print(num, \"is not a Happy Number\")\n",
    "\n",
    "\n",
    "\n",
    "for i in range(1, 101):\n",
    "    if isHappy(i):\n",
    "        print(i)"
   ]
  },
  {
   "cell_type": "code",
   "execution_count": 95,
   "id": "4a7c8473-a308-40e1-afc1-91a639a9eb57",
   "metadata": {},
   "outputs": [
    {
     "name": "stdin",
     "output_type": "stream",
     "text": [
      "Enter Number :  22\n"
     ]
    },
    {
     "name": "stdout",
     "output_type": "stream",
     "text": [
      "4\n"
     ]
    },
    {
     "data": {
      "text/plain": [
       "'22 is not a Harshad Number'"
      ]
     },
     "execution_count": 95,
     "metadata": {},
     "output_type": "execute_result"
    }
   ],
   "source": [
    "# 5. Write a Python program to determine whether the given number is a Harshad Number?\n",
    "\n",
    "def isHarshad(num):\n",
    "    x = str(num)\n",
    "    summ = 0\n",
    "    for i in x:\n",
    "        summ = summ+int(i)\n",
    "    print(summ)\n",
    "    if (num%summ) == 0:\n",
    "        return f\"{num} is a Harshad Number\"\n",
    "    else:\n",
    "        return f\"{num} is not a Harshad Number\"\n",
    "    \n",
    "n = int(input(\"Enter Number : \"))    \n",
    "isHarshad(n)\n"
   ]
  },
  {
   "cell_type": "code",
   "execution_count": 101,
   "id": "67eee3da-323a-4d41-b8f8-37063e7426e9",
   "metadata": {},
   "outputs": [
    {
     "name": "stdout",
     "output_type": "stream",
     "text": [
      "2 is a pronic Number\n",
      "6 is a pronic Number\n",
      "12 is a pronic Number\n",
      "20 is a pronic Number\n",
      "30 is a pronic Number\n",
      "42 is a pronic Number\n",
      "56 is a pronic Number\n",
      "72 is a pronic Number\n",
      "90 is a pronic Number\n"
     ]
    }
   ],
   "source": [
    "# 6. Write a Python program to print all pronic numbers between 1 and 100?\n",
    "\n",
    "def ispronics(num):\n",
    "    n = 0\n",
    "    while n*(n+1) <= num:\n",
    "        if n*(n+1) == num:\n",
    "            return True\n",
    "        n = n+1\n",
    "    return False\n",
    "\n",
    "for i in range (1,101):\n",
    "    if ispronics(i):\n",
    "        print(f\"{i} is a pronic Number\")\n"
   ]
  },
  {
   "cell_type": "code",
   "execution_count": null,
   "id": "a5f5624b-cbce-499a-8e9d-68274b69b5cf",
   "metadata": {},
   "outputs": [],
   "source": []
  }
 ],
 "metadata": {
  "kernelspec": {
   "display_name": "Python 3 (ipykernel)",
   "language": "python",
   "name": "python3"
  },
  "language_info": {
   "codemirror_mode": {
    "name": "ipython",
    "version": 3
   },
   "file_extension": ".py",
   "mimetype": "text/x-python",
   "name": "python",
   "nbconvert_exporter": "python",
   "pygments_lexer": "ipython3",
   "version": "3.10.6"
  }
 },
 "nbformat": 4,
 "nbformat_minor": 5
}
