{
 "cells": [
  {
   "cell_type": "code",
   "execution_count": null,
   "id": "9c216579-e7b9-4727-a08f-783e6d000bb7",
   "metadata": {},
   "outputs": [
    {
     "name": "stdin",
     "output_type": "stream",
     "text": [
      "Enter kilometer you want to get in miles :  10\n"
     ]
    },
    {
     "name": "stdout",
     "output_type": "stream",
     "text": [
      "6.21371\n"
     ]
    }
   ],
   "source": [
    "# 1. Write a Python program to convert kilometers to miles?\n",
    "def km_to_miles():\n",
    "    try:\n",
    "        kilometer = int(input(\"Enter kilometer you want to get in miles : \"))\n",
    "        miles = kilometer*0.621371\n",
    "        return miles\n",
    "    except Exception as e:\n",
    "        return (\"Invalid input\", e)\n",
    "        \n",
    "n = km_to_miles()\n",
    "print(n)"
   ]
  },
  {
   "cell_type": "code",
   "execution_count": 2,
   "id": "a930e42f-24fa-4f8b-8337-da20161bde7e",
   "metadata": {},
   "outputs": [
    {
     "name": "stdin",
     "output_type": "stream",
     "text": [
      "Enter celsius degree to convert into fahrenheit :  25.4563\n"
     ]
    },
    {
     "name": "stdout",
     "output_type": "stream",
     "text": [
      "77.82133999999999\n"
     ]
    }
   ],
   "source": [
    "# 2. Write a Python program to convert Celsius to Fahrenheit?\n",
    "\n",
    "# (0°C × 9/5) + 32 = 32°F\n",
    "\n",
    "def cels_to_fahren():\n",
    "    try:\n",
    "        celsius = float(input(\"Enter celsius degree to convert into fahrenheit : \"))\n",
    "        result = (celsius * (9/5)) + 32\n",
    "        return result\n",
    "    except Exception as e:\n",
    "        print(\"Invalid Input\")\n",
    "\n",
    "n = cels_to_fahren()\n",
    "print(n)"
   ]
  },
  {
   "cell_type": "code",
   "execution_count": 31,
   "id": "37db6351-378a-4fe1-97f3-7dcd9acda022",
   "metadata": {},
   "outputs": [
    {
     "name": "stdin",
     "output_type": "stream",
     "text": [
      "Enter the year:  2023\n"
     ]
    },
    {
     "name": "stdout",
     "output_type": "stream",
     "text": [
      "                                  2023\n",
      "\n",
      "      January                   February                   March\n",
      "Mo Tu We Th Fr Sa Su      Mo Tu We Th Fr Sa Su      Mo Tu We Th Fr Sa Su\n",
      "                   1             1  2  3  4  5             1  2  3  4  5\n",
      " 2  3  4  5  6  7  8       6  7  8  9 10 11 12       6  7  8  9 10 11 12\n",
      " 9 10 11 12 13 14 15      13 14 15 16 17 18 19      13 14 15 16 17 18 19\n",
      "16 17 18 19 20 21 22      20 21 22 23 24 25 26      20 21 22 23 24 25 26\n",
      "23 24 25 26 27 28 29      27 28                     27 28 29 30 31\n",
      "30 31\n",
      "\n",
      "       April                      May                       June\n",
      "Mo Tu We Th Fr Sa Su      Mo Tu We Th Fr Sa Su      Mo Tu We Th Fr Sa Su\n",
      "                1  2       1  2  3  4  5  6  7                1  2  3  4\n",
      " 3  4  5  6  7  8  9       8  9 10 11 12 13 14       5  6  7  8  9 10 11\n",
      "10 11 12 13 14 15 16      15 16 17 18 19 20 21      12 13 14 15 16 17 18\n",
      "17 18 19 20 21 22 23      22 23 24 25 26 27 28      19 20 21 22 23 24 25\n",
      "24 25 26 27 28 29 30      29 30 31                  26 27 28 29 30\n",
      "\n",
      "        July                     August                  September\n",
      "Mo Tu We Th Fr Sa Su      Mo Tu We Th Fr Sa Su      Mo Tu We Th Fr Sa Su\n",
      "                1  2          1  2  3  4  5  6                   1  2  3\n",
      " 3  4  5  6  7  8  9       7  8  9 10 11 12 13       4  5  6  7  8  9 10\n",
      "10 11 12 13 14 15 16      14 15 16 17 18 19 20      11 12 13 14 15 16 17\n",
      "17 18 19 20 21 22 23      21 22 23 24 25 26 27      18 19 20 21 22 23 24\n",
      "24 25 26 27 28 29 30      28 29 30 31               25 26 27 28 29 30\n",
      "31\n",
      "\n",
      "      October                   November                  December\n",
      "Mo Tu We Th Fr Sa Su      Mo Tu We Th Fr Sa Su      Mo Tu We Th Fr Sa Su\n",
      "                   1             1  2  3  4  5                   1  2  3\n",
      " 2  3  4  5  6  7  8       6  7  8  9 10 11 12       4  5  6  7  8  9 10\n",
      " 9 10 11 12 13 14 15      13 14 15 16 17 18 19      11 12 13 14 15 16 17\n",
      "16 17 18 19 20 21 22      20 21 22 23 24 25 26      18 19 20 21 22 23 24\n",
      "23 24 25 26 27 28 29      27 28 29 30               25 26 27 28 29 30 31\n",
      "30 31\n",
      "\n"
     ]
    }
   ],
   "source": [
    "# 3. Write a Python program to display calendar?\n",
    "def display_calender():\n",
    "    try:\n",
    "        import calendar\n",
    "        year = int(input(\"Enter the year: \"))\n",
    "        return calendar.calendar(year)\n",
    "    except Exception as e:\n",
    "        return \"Please Enter a valid input.\"\n",
    "\n",
    "calend = display_calender()\n",
    "print(calend)"
   ]
  },
  {
   "cell_type": "code",
   "execution_count": 39,
   "id": "c24a47dc-ff9e-4010-ac90-dabed6bd0857",
   "metadata": {},
   "outputs": [
    {
     "name": "stdin",
     "output_type": "stream",
     "text": [
      "Enter the coefficient of x^2:  4\n",
      "Enter the coefficient of x:  6\n",
      "Enter the constant term:  2\n"
     ]
    },
    {
     "name": "stdout",
     "output_type": "stream",
     "text": [
      "('The roots are:', -0.5, 'and', -1.0)\n"
     ]
    }
   ],
   "source": [
    "# 4. Write a Python program to solve quadratic equation?\n",
    "def quadratic_equation():\n",
    "    try :\n",
    "        import math\n",
    "        a = float(input(\"Enter the coefficient of x^2 : \"))\n",
    "        b = float(input(\"Enter the coefficient of x : \"))\n",
    "        c = float(input(\"Enter the constant term : \"))\n",
    "\n",
    "        discriminant = b**2 - 4*a*c\n",
    "        \n",
    "        if discriminant > 0:\n",
    "            root1 = (-b + math.sqrt(discriminant)) / (2*a)\n",
    "            root2 = (-b - math.sqrt(discriminant)) / (2*a)\n",
    "            return \"The roots are:\", root1, \"and\", root2\n",
    "\n",
    "        elif discriminant == 0:\n",
    "\n",
    "            root = -b / (2*a)\n",
    "            return \"The root is:\", root\n",
    "        else:\n",
    "            real_part = -b / (2*a)\n",
    "            imaginary_part = math.sqrt(-discriminant) / (2*a)\n",
    "            return \"The roots are:\", real_part + imaginary_part, \"and\", real_part - imaginary_part\n",
    "        \n",
    "    except Exception as e:\n",
    "        return \"please check and try again...\"\n",
    "    \n",
    "result = quadratic_equation()\n",
    "print(result)"
   ]
  },
  {
   "cell_type": "markdown",
   "id": "296daf8f-806f-4a82-ba04-a40c85185443",
   "metadata": {},
   "source": [
    "<!-- 5. Write a Python program to swap two variables without temp variable? -->"
   ]
  },
  {
   "cell_type": "code",
   "execution_count": null,
   "id": "ee2ff1fd-42ba-4c64-8c5a-85b60f4f175a",
   "metadata": {},
   "outputs": [],
   "source": [
    "# 5. Write a Python program to swap two variables without temp variable?\n",
    "def swapping(a ,b):\n",
    "    a,b = b,a\n",
    "    return a, b\n",
    "\n",
    "a = input(\"Enter value of a : \")\n",
    "b = input(\"Enter value of b : \")\n",
    "\n",
    "print(\"Before Swapping\")\n",
    "print(\"value of a : \", a ,\"value of b : \",b)\n",
    "\n",
    "a,b = swapping(a, b)\n",
    "print(\"After Swapping\")\n",
    "print(\"value of a : \", a ,\"value of b : \",b)\n"
   ]
  }
 ],
 "metadata": {
  "kernelspec": {
   "display_name": "Python 3 (ipykernel)",
   "language": "python",
   "name": "python3"
  },
  "language_info": {
   "codemirror_mode": {
    "name": "ipython",
    "version": 3
   },
   "file_extension": ".py",
   "mimetype": "text/x-python",
   "name": "python",
   "nbconvert_exporter": "python",
   "pygments_lexer": "ipython3",
   "version": "3.10.6"
  }
 },
 "nbformat": 4,
 "nbformat_minor": 5
}
