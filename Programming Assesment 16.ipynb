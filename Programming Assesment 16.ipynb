{
 "cells": [
  {
   "cell_type": "code",
   "execution_count": 11,
   "id": "e95aa378-1cd1-4ab0-8586-f1b225f9c774",
   "metadata": {},
   "outputs": [
    {
     "name": "stdin",
     "output_type": "stream",
     "text": [
      "Enter word :  outstanding\n"
     ]
    },
    {
     "name": "stdout",
     "output_type": "stream",
     "text": [
      "ou... ou... outstanding?\n"
     ]
    }
   ],
   "source": [
    "# Question1.\n",
    "# Write a function that stutters a word as if someone is struggling to read it. The\n",
    "# first two letters are repeated twice with an ellipsis ... and space after each, and then the\n",
    "# word is pronounced with a question mark ?.\n",
    "# Examples\n",
    "# stutter('incredible') ➞ 'in... in... incredible?'\n",
    "# stutter('enthusiastic') ➞ 'en... en... enthusiastic?'\n",
    "# stutter('outstanding') ➞ 'ou... ou... outstanding?'\n",
    "\n",
    "# Hint :- Assume all input is in lower case and at least two characters long.\n",
    "\n",
    "def Stutters():\n",
    "    word = input(\"Enter word : \")\n",
    "    return f\"{word[:2]}... {word[:2]}... {word}?\"\n",
    "\n",
    "word = Stutters()\n",
    "print(word)"
   ]
  },
  {
   "cell_type": "code",
   "execution_count": 25,
   "id": "e410f0c2-68ff-4db1-9bdf-bb5ce19d71bc",
   "metadata": {},
   "outputs": [
    {
     "name": "stdin",
     "output_type": "stream",
     "text": [
      "Enter Radians :  20\n"
     ]
    },
    {
     "name": "stdout",
     "output_type": "stream",
     "text": [
      "1145.9\n"
     ]
    }
   ],
   "source": [
    "# Question 2.Create a function that takes an angle in radians and returns the corresponding\n",
    "# angle in degrees rounded to one decimal place.\n",
    "# Examples\n",
    "# radians_to_degrees(1) ➞ 57.3\n",
    "# radians_to_degrees(20) ➞ 1145.9\n",
    "# radians_to_degrees(50) ➞ 2864.8\n",
    "\n",
    "def get_Degree():\n",
    "    import math\n",
    "    Radians = int(input(\"Enter Radians : \"))\n",
    "    Degrees = Radians * 180 / math.pi\n",
    "    return Degrees\n",
    "\n",
    "degree = get_Degree()\n",
    "print(\"%.1f\" % degree)"
   ]
  },
  {
   "cell_type": "code",
   "execution_count": 37,
   "id": "42c978dc-2fb3-4d06-9a31-7c047c80ea4f",
   "metadata": {},
   "outputs": [
    {
     "name": "stdout",
     "output_type": "stream",
     "text": [
      "1025 is not multiple of 21\n"
     ]
    },
    {
     "data": {
      "text/plain": [
       "False"
      ]
     },
     "execution_count": 37,
     "metadata": {},
     "output_type": "execute_result"
    }
   ],
   "source": [
    "# Question 3.\n",
    "# In this challenge, establish if a given integer num is a Curzon number. If 1 plus\n",
    "# 2 elevated to num is exactly divisible by 1 plus 2 multiplied by num, then num is a Curzon\n",
    "# number.\n",
    "# Given a non-negative integer num, implement a function that returns True if num is a Curzon\n",
    "# number, or False otherwise.\n",
    "# Examples\n",
    "# is_curzon(5) ➞ True\n",
    "# # 2 ** 5 + 1 = 33\n",
    "# # 2 * 5 + 1 = 11\n",
    "# # 33 is a multiple of 11\n",
    "# is_curzon(10) ➞ False\n",
    "# # 2 ** 10 + 1 = 1025\n",
    "# # 2 * 10 + 1 = 21\n",
    "# # 1025 is not a multiple of 21\n",
    "# is_curzon(14) ➞ True\n",
    "# # 2 ** 14 + 1 = 16385\n",
    "# # 2 * 14 + 1 = 29\n",
    "# # 16385 is a multiple of 29\n",
    "\n",
    "\n",
    "def is_Curzon(n):\n",
    "    x = (2**n) + 1\n",
    "    y = (2*n) + 1\n",
    "    if (x % y) == 0:\n",
    "        print(f\"{x} is multiple of {y}\")\n",
    "        return True\n",
    "    else:\n",
    "        print(f\"{x} is not multiple of {y}\")\n",
    "        return False\n",
    "\n",
    "is_Curzon(10)\n"
   ]
  },
  {
   "cell_type": "code",
   "execution_count": 49,
   "id": "d0e57a31-5eaf-4cc4-b73a-5327e3392360",
   "metadata": {},
   "outputs": [
    {
     "name": "stdin",
     "output_type": "stream",
     "text": [
      "Enter length :  3\n"
     ]
    },
    {
     "data": {
      "text/plain": [
       "'23.4'"
      ]
     },
     "execution_count": 49,
     "metadata": {},
     "output_type": "execute_result"
    }
   ],
   "source": [
    "# Question 4.Given the side length x find the area of a hexagon.\n",
    "\n",
    "# Examples\n",
    "# area_of_hexagon(1) ➞ 2.6\n",
    "# area_of_hexagon(2) ➞ 10.4\n",
    "# area_of_hexagon(3) ➞ 23.4\n",
    "\n",
    "\n",
    "def area_Hexa():\n",
    "    import math\n",
    "    length = float(input(\"Enter length : \"))\n",
    "    area = ((3*math.sqrt(3) * (length*length))/2)\n",
    "    return \"%.1lf\" % area\n",
    "    \n",
    "area_Hexa()"
   ]
  },
  {
   "cell_type": "code",
   "execution_count": 55,
   "id": "6c2b51fd-1aac-4180-af0a-1aed721b6a1b",
   "metadata": {},
   "outputs": [
    {
     "name": "stdout",
     "output_type": "stream",
     "text": [
      "1\n",
      "101\n",
      "1010\n"
     ]
    }
   ],
   "source": [
    "# Question 5.\n",
    "# Create a function that returns a base-2 (binary) representation of a base-10\n",
    "# (decimal) string number. To convert is simple: ((2) means base-2 and (10) means base-10)\n",
    "# 010101001(2) = 1 + 8 + 32 + 128.\n",
    "# Going from right to left, the value of the most right bit is 1, now from that every bit to the left\n",
    "# will be x2 the value, value of an 8 bit binary numbers are (256, 128, 64, 32, 16, 8, 4, 2, 1).\n",
    "# Examples\n",
    "# binary(1) ➞ '1'\n",
    "# # 1*1 = 1\n",
    "# binary(5) ➞ '101'\n",
    "# # 1*1 + 1*4 = 5\n",
    "# binary(10) ➞ '1010'\n",
    "# # 1*2 + 1*8 = 10\n",
    "\n",
    "def decimalToBinary(n):\n",
    "    return bin(n).replace(\"0b\", \"\")\n",
    "   \n",
    "print(decimalToBinary(1))\n",
    "print(decimalToBinary(5))\n",
    "print(decimalToBinary(10))\n"
   ]
  },
  {
   "cell_type": "code",
   "execution_count": null,
   "id": "792e2b69-0f95-4f15-bc95-317abd619109",
   "metadata": {},
   "outputs": [],
   "source": []
  }
 ],
 "metadata": {
  "kernelspec": {
   "display_name": "Python 3 (ipykernel)",
   "language": "python",
   "name": "python3"
  },
  "language_info": {
   "codemirror_mode": {
    "name": "ipython",
    "version": 3
   },
   "file_extension": ".py",
   "mimetype": "text/x-python",
   "name": "python",
   "nbconvert_exporter": "python",
   "pygments_lexer": "ipython3",
   "version": "3.10.6"
  }
 },
 "nbformat": 4,
 "nbformat_minor": 5
}
