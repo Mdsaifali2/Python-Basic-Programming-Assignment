{
 "cells": [
  {
   "cell_type": "code",
   "execution_count": null,
   "id": "5411ba0e-bd68-4def-9cef-8bbbc5602f44",
   "metadata": {},
   "outputs": [],
   "source": [
    "## 1. Write a Python Program to Find the Factorial of a Number?\n",
    "\n",
    "def factorial():\n",
    "    try:\n",
    "        num = int(input(\"Enter number to find the factorial : \"))\n",
    "        result=1\n",
    "        for i in range(1, num+1):\n",
    "            result = result * i\n",
    "        return result\n",
    "    except Exception as e:\n",
    "        return \"Enter valid input.\"\n",
    "a = factorial()\n",
    "print(a)"
   ]
  },
  {
   "cell_type": "code",
   "execution_count": 16,
   "id": "3eced2b3-48e9-44aa-a05c-5c3f8a511c50",
   "metadata": {},
   "outputs": [
    {
     "name": "stdin",
     "output_type": "stream",
     "text": [
      "Enter number which you want to get the table :  10\n",
      "Enter range :  10\n"
     ]
    },
    {
     "name": "stdout",
     "output_type": "stream",
     "text": [
      "10 x 1 = 10\n",
      "10 x 2 = 20\n",
      "10 x 3 = 30\n",
      "10 x 4 = 40\n",
      "10 x 5 = 50\n",
      "10 x 6 = 60\n",
      "10 x 7 = 70\n",
      "10 x 8 = 80\n",
      "10 x 9 = 90\n",
      "10 x 10 = 100\n"
     ]
    }
   ],
   "source": [
    "# 2. Write a Python Program to Display the multiplication Table?\n",
    "def multiplication_table():\n",
    "    try:\n",
    "        num = int(input(\"Enter number which you want to get the table : \"))\n",
    "        rang = int(input(\"Enter range : \"))\n",
    "\n",
    "        for i in range(1, rang+1):\n",
    "            print(num, \"x\", i, \"=\", num*i)\n",
    "    except Exception as e:\n",
    "        print(\"Enter invalid input.\")\n",
    "\n",
    "multiplication_table()"
   ]
  },
  {
   "cell_type": "code",
   "execution_count": 19,
   "id": "39c863dc-e8aa-40f4-8411-cbc0e94adeb3",
   "metadata": {},
   "outputs": [
    {
     "name": "stdin",
     "output_type": "stream",
     "text": [
      "How many terms do you want in the Fibonacci sequence?  10\n"
     ]
    },
    {
     "name": "stdout",
     "output_type": "stream",
     "text": [
      "Fibonacci sequence:\n",
      "0  1  1  2  3  5  8  13  21  34  "
     ]
    }
   ],
   "source": [
    "# 3. Write a Python Program to Print the Fibonacci sequence?\n",
    "\n",
    "def fib_seq():\n",
    "    try:\n",
    "        n = int(input(\"Enter Number of terms do you want in the Fibonacci sequence? \"))\n",
    "\n",
    "        a, b = 0, 1\n",
    "\n",
    "        if n <= 0:\n",
    "            print(\"Please enter a positive integer.\")\n",
    "\n",
    "        else:\n",
    "            print(\"Fibonacci sequence:\")\n",
    "            for i in range(n):\n",
    "                print(a, end=\"  \")\n",
    "                a, b = b, a+b\n",
    "\n",
    "    except Exception as e:\n",
    "        print(\"Invalid input, please check.\")\n",
    "\n",
    "fib_seq()"
   ]
  },
  {
   "cell_type": "code",
   "execution_count": 1,
   "id": "60dc33e1-0ecb-40a7-a437-9294925270b9",
   "metadata": {},
   "outputs": [
    {
     "name": "stdin",
     "output_type": "stream",
     "text": [
      "Enter number to check for armstrong :  371\n"
     ]
    },
    {
     "data": {
      "text/plain": [
       "True"
      ]
     },
     "execution_count": 1,
     "metadata": {},
     "output_type": "execute_result"
    }
   ],
   "source": [
    "# 4. Write a Python Program to Check Armstrong Number?\n",
    "\n",
    "def power(x, y):\n",
    "    if y == 0:\n",
    "        return 1\n",
    "    if y % 2 == 0:\n",
    "        return power(x, y // 2) * power(x, y // 2)\n",
    "    \n",
    "    return x * power(x, y // 2) * power(x, y // 2)\n",
    "\n",
    "\n",
    "def order(x):\n",
    "    n = 0\n",
    "    while (x != 0):\n",
    "        n = n + 1\n",
    "        x = x // 10\n",
    "    return n\n",
    "\n",
    "def isArmstrong():\n",
    "    try:\n",
    "        x = int(input(\"Enter number to check for armstrong : \"))\n",
    "        n = order(x)\n",
    "        temp = x\n",
    "        sum1 = 0\n",
    "\n",
    "        while (temp != 0):\n",
    "            r = temp % 10\n",
    "            sum1 = sum1 + power(r, n)\n",
    "            temp = temp // 10\n",
    "        return (sum1 == x)\n",
    "    except Exception as e:\n",
    "        print(\"Something went wrong. Please Enter a valid input\")\n",
    "\n",
    "isArmstrong()"
   ]
  },
  {
   "cell_type": "code",
   "execution_count": 35,
   "id": "fad5c2c1-c390-4168-9c97-6dbedf2857a9",
   "metadata": {},
   "outputs": [
    {
     "name": "stdin",
     "output_type": "stream",
     "text": [
      "Enter minimum range :  100\n",
      "Enter Maximum range :  2000\n"
     ]
    },
    {
     "name": "stdout",
     "output_type": "stream",
     "text": [
      "153\n",
      "370\n",
      "371\n",
      "407\n",
      "1634\n"
     ]
    }
   ],
   "source": [
    "# 5. Write a Python Program to Find Armstrong Number in an Interval?\n",
    "\n",
    "lower = 100\n",
    "upper = 2000\n",
    "\n",
    "def armstrong_inrange():\n",
    "    try:\n",
    "        lower = int(input(\"Enter minimum range : \"))\n",
    "        higher = int(input(\"Enter Maximum range : \"))\n",
    "        \n",
    "        for num in range(lower, higher + 1):\n",
    "            order = len(str(num))\n",
    "\n",
    "            sum = 0\n",
    "\n",
    "            temp = num\n",
    "            while temp > 0:\n",
    "                digit = temp % 10\n",
    "                sum += digit ** order\n",
    "                temp //= 10\n",
    "\n",
    "            if num == sum:\n",
    "                print(num)\n",
    "            \n",
    "    except Exception as e:\n",
    "        print(\"Invalid input. Please Check and try again\")\n",
    "\n",
    "armstrong_inrange()"
   ]
  },
  {
   "cell_type": "code",
   "execution_count": 45,
   "id": "8e8fbba0-19d2-44f3-8097-41bd1333eeae",
   "metadata": {},
   "outputs": [
    {
     "name": "stdin",
     "output_type": "stream",
     "text": [
      "Please enter a positive number :  150\n"
     ]
    },
    {
     "data": {
      "text/plain": [
       "11325"
      ]
     },
     "execution_count": 45,
     "metadata": {},
     "output_type": "execute_result"
    }
   ],
   "source": [
    "# 6. Write a Python Program to Find the Sum of Natural Numbers?\n",
    "\n",
    "def find_natural():\n",
    "    try:\n",
    "        n = int(input(\"Please enter a positive number : \"))\n",
    "        sum = 0\n",
    "        while n!=0:\n",
    "            sum = sum + n\n",
    "            n=n-1\n",
    "        return sum\n",
    "    except Exception as e :\n",
    "        print(e)\n",
    "\n",
    "find_natural()"
   ]
  }
 ],
 "metadata": {
  "kernelspec": {
   "display_name": "Python 3 (ipykernel)",
   "language": "python",
   "name": "python3"
  },
  "language_info": {
   "codemirror_mode": {
    "name": "ipython",
    "version": 3
   },
   "file_extension": ".py",
   "mimetype": "text/x-python",
   "name": "python",
   "nbconvert_exporter": "python",
   "pygments_lexer": "ipython3",
   "version": "3.10.6"
  }
 },
 "nbformat": 4,
 "nbformat_minor": 5
}
