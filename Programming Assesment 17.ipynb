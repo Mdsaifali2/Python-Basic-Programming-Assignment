{
 "cells": [
  {
   "cell_type": "code",
   "execution_count": 36,
   "id": "32fb6dd0-4069-4914-9a95-50a5b09e0552",
   "metadata": {},
   "outputs": [
    {
     "name": "stdin",
     "output_type": "stream",
     "text": [
      "Enter number 1 :  1\n",
      "Enter number 2 :  10\n",
      "Enter number 3 :  2\n"
     ]
    },
    {
     "name": "stdout",
     "output_type": "stream",
     "text": [
      "30\n"
     ]
    }
   ],
   "source": [
    "# Question1. Create a function that takes three arguments a, b, c and returns the sum of the\n",
    "# numbers that are evenly divided by c from the range a, b inclusive.\n",
    "# Examples\n",
    "# evenly_divisible(1, 10, 20) ➞ 0\n",
    "# # No number between 1 and 10 can be evenly divided by 20.\n",
    "# evenly_divisible(1, 10, 2) ➞ 30\n",
    "# # 2 + 4 + 6 + 8 + 10 = 30\n",
    "# evenly_divisible(1, 10, 3) ➞ 18\n",
    "# # 3 + 6 + 9 = 18\n",
    "\n",
    "def evenly_Divisible():\n",
    "    a = float(input(\"Enter number 1 : \"))\n",
    "    b = float(input(\"Enter number 2 : \"))\n",
    "    c = float(input(\"Enter number 3 : \"))\n",
    "\n",
    "    Sum = 0\n",
    "    \n",
    "    for i in range(round(a), round(b)+1):\n",
    "        if i%c == 0:\n",
    "            Sum = Sum + i\n",
    "    return a,b,c,Sum\n",
    "\n",
    "a, b, c, result = evenly_Divisible()\n",
    "if result == 0:\n",
    "    print(f\"No number between {a} and {b} can be evenly divided by {c}.\")\n",
    "else:\n",
    "    print(result)\n",
    "    "
   ]
  },
  {
   "cell_type": "code",
   "execution_count": 37,
   "id": "243a40ca-96ba-4bc1-a448-7078c3ea3fe6",
   "metadata": {},
   "outputs": [
    {
     "name": "stdout",
     "output_type": "stream",
     "text": [
      "False\n",
      "False\n",
      "True\n"
     ]
    }
   ],
   "source": [
    "# Question2.\n",
    "# Create a function that returns True if a given inequality expression is correct and\n",
    "# False otherwise.\n",
    "# Examples\n",
    "# correct_signs(\"3 > 7 < 11\") ➞ True\n",
    "# correct_signs(\"13 > 44 > 33 > 1\") ➞ False\n",
    "# correct_signs(\"1 < 2 < 6 < 9 > 3\") ➞ True\n",
    "\n",
    "def correct_signs ( txt ) : \n",
    "    return eval ( txt )\n",
    "print(correct_signs(\"3 > 7 < 11\"))\n",
    "print(correct_signs(\"13 > 44 > 33 > 1\"))\n",
    "print(correct_signs(\"1 < 2 < 6 < 9 > 3\"))\n"
   ]
  },
  {
   "cell_type": "code",
   "execution_count": 40,
   "id": "66b268e6-7c38-453b-b313-21d7f437b10a",
   "metadata": {},
   "outputs": [
    {
     "name": "stdin",
     "output_type": "stream",
     "text": [
      "Enter text :  shakespeare\n",
      "Enter charactet to replaces :  *\n"
     ]
    },
    {
     "data": {
      "text/plain": [
       "'sh*k*sp**r*'"
      ]
     },
     "execution_count": 40,
     "metadata": {},
     "output_type": "execute_result"
    }
   ],
   "source": [
    "# Question3.\n",
    "# Create a function that replaces all the vowels in a string with a specified character.\n",
    "# Examples\n",
    "# replace_vowels('the aardvark, '#') ➞ 'th# ##rdv#rk'\n",
    "# replace_vowels('minnie mouse', '?') ➞ 'm?nn?? m??s?'\n",
    "# replace_vowels('shakespeare', '*') ➞ 'sh*k*sp**r*'\n",
    "               \n",
    "def replaceVowels():\n",
    "    vowels = \"AEIOUaeiou\"\n",
    "    string = input(\"Enter text : \")\n",
    "    character = input(\"Enter charactet to replaces : \")\n",
    "    for i in vowels:\n",
    "        string=string.replace(i, character)\n",
    "    \n",
    "    return string\n",
    "\n",
    "replaceVowels()"
   ]
  },
  {
   "cell_type": "code",
   "execution_count": 48,
   "id": "bc8b0c5b-b621-4c95-af80-0b3bd5d2aaa6",
   "metadata": {},
   "outputs": [
    {
     "data": {
      "text/plain": [
       "120"
      ]
     },
     "execution_count": 48,
     "metadata": {},
     "output_type": "execute_result"
    }
   ],
   "source": [
    "# Question4. Write a function that calculates the factorial of a number recursively.\n",
    "# Examples\n",
    "# factorial(5) ➞ 120\n",
    "# factorial(3) ➞ 6\n",
    "# factorial(1) ➞ 1\n",
    "# factorial(0) ➞ 1\n",
    "\n",
    "def factorial(n):\n",
    "    if n == 0 or n ==1:\n",
    "        return 1\n",
    "    else:\n",
    "        return n* factorial(n-1)\n",
    "\n",
    "factorial(5)\n"
   ]
  },
  {
   "cell_type": "code",
   "execution_count": 56,
   "id": "16e01729-8644-486c-b0bf-db96ff5e6dc7",
   "metadata": {},
   "outputs": [
    {
     "name": "stdin",
     "output_type": "stream",
     "text": [
      "Enter word 1 :  abcde\n",
      "Enter word 2 :  abcde\n"
     ]
    },
    {
     "data": {
      "text/plain": [
       "0"
      ]
     },
     "execution_count": 56,
     "metadata": {},
     "output_type": "execute_result"
    }
   ],
   "source": [
    "# Question 5\n",
    "# Hamming distance is the number of characters that differ between two strings.\n",
    "# To illustrate:\n",
    "# String1: 'abcbba'\n",
    "# String2: 'abcbda'\n",
    "# Hamming Distance: 1 - 'b' vs. 'd' is the only difference.\n",
    "# Create a function that computes the hamming distance between two strings.\n",
    "# Examples\n",
    "# hamming_distance('abcde', 'bcdef') ➞ 5\n",
    "# hamming_distance('abcde', 'abcde') ➞ 0\n",
    "# hamming_distance('strong', 'strung') ➞ 1\n",
    "\n",
    "def hammingDistance():\n",
    "    x = input(\"Enter word 1 : \")\n",
    "    y = input(\"Enter word 2 : \")\n",
    "    i = 0\n",
    "    count = 0\n",
    "    while i < len(x):\n",
    "        if x[i] != y[i]:\n",
    "            count += 1\n",
    "        i = i+1\n",
    "    return count\n",
    "\n",
    "hammingDistance()"
   ]
  },
  {
   "cell_type": "code",
   "execution_count": null,
   "id": "afb8a035-f38f-4a8c-944c-42002f695cf6",
   "metadata": {},
   "outputs": [],
   "source": []
  }
 ],
 "metadata": {
  "kernelspec": {
   "display_name": "Python 3 (ipykernel)",
   "language": "python",
   "name": "python3"
  },
  "language_info": {
   "codemirror_mode": {
    "name": "ipython",
    "version": 3
   },
   "file_extension": ".py",
   "mimetype": "text/x-python",
   "name": "python",
   "nbconvert_exporter": "python",
   "pygments_lexer": "ipython3",
   "version": "3.10.6"
  }
 },
 "nbformat": 4,
 "nbformat_minor": 5
}
