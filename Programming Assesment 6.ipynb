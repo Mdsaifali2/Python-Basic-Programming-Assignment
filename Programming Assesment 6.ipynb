{
 "cells": [
  {
   "cell_type": "code",
   "execution_count": 14,
   "id": "0146e578-ef35-4d76-8297-47a131ef09c6",
   "metadata": {},
   "outputs": [
    {
     "name": "stdin",
     "output_type": "stream",
     "text": [
      "Enter the number of terms you want to display:  5\n"
     ]
    },
    {
     "name": "stdout",
     "output_type": "stream",
     "text": [
      "Fibonacci sequence:\n",
      "0\n",
      "1\n",
      "1\n",
      "2\n",
      "3\n"
     ]
    }
   ],
   "source": [
    "# 1. Write a Python Program to Display Fibonacci Sequence Using Recursion?\n",
    "\n",
    "def fibonacci(n):\n",
    "    if n <= 1:\n",
    "        return n\n",
    "    else:\n",
    "        return (fibonacci(n-1) + fibonacci(n-2))\n",
    "\n",
    "nterms = int(input(\"Enter the number of terms you want to display: \"))\n",
    "\n",
    "if nterms <= 0:\n",
    "    print(\"Invalid input! Please enter a positive integer.\")\n",
    "else:\n",
    "    print(\"Fibonacci sequence:\")\n",
    "    for i in range(nterms):\n",
    "        print(fibonacci(i))"
   ]
  },
  {
   "cell_type": "code",
   "execution_count": 20,
   "id": "962ec932-0343-4f8a-b8bd-0c1ddfbf9ec5",
   "metadata": {},
   "outputs": [
    {
     "name": "stdin",
     "output_type": "stream",
     "text": [
      "Enter a positive integer:  1\n"
     ]
    },
    {
     "name": "stdout",
     "output_type": "stream",
     "text": [
      "The factorial of 1 is 1.\n"
     ]
    }
   ],
   "source": [
    "# 2. Write a Python Program to Find Factorial of Number Using Recursion?\n",
    "\n",
    "def factorial(n):\n",
    "    if n == 1:\n",
    "        return n\n",
    "    else:\n",
    "        return n * factorial(n-1)\n",
    "\n",
    "num = int(input(\"Enter a positive integer: \"))\n",
    "\n",
    "if num < 0:\n",
    "    print(\"Invalid input! Please enter a positive integer.\")\n",
    "elif num == 0:\n",
    "    print(\"The factorial of 0 is 1.\")\n",
    "else:\n",
    "    print(f\"The factorial of {num} is {factorial(num)}.\")\n",
    "\n",
    "    \n"
   ]
  },
  {
   "cell_type": "code",
   "execution_count": 25,
   "id": "45005075-baa5-45a7-ab3c-a36832e0f483",
   "metadata": {},
   "outputs": [
    {
     "name": "stdin",
     "output_type": "stream",
     "text": [
      "Enter Weight in Kg :  65\n",
      "Enter Height in Meter :  1.65\n"
     ]
    },
    {
     "name": "stdout",
     "output_type": "stream",
     "text": [
      "23.875114784205696\n"
     ]
    }
   ],
   "source": [
    "# 3. Write a Python Program to calculate your Body Mass Index?\n",
    "\n",
    "def find_bmi():\n",
    "    try:\n",
    "        weight = float(input(\"Enter Weight in Kg : \"))\n",
    "        Height = float(input(\"Enter Height in Meter : \"))\n",
    "\n",
    "        bmi = weight / (Height**2)\n",
    "        return bmi\n",
    "    \n",
    "    except Exception as e:\n",
    "        print(\"Something went wrong, Please check and try again\")\n",
    "        \n",
    "result = find_bmi()\n",
    "print(result)\n"
   ]
  },
  {
   "cell_type": "code",
   "execution_count": 26,
   "id": "c0948fa6-d919-4b25-a54c-a4ea87192af0",
   "metadata": {},
   "outputs": [
    {
     "name": "stdin",
     "output_type": "stream",
     "text": [
      "Enter number to find the logarithm :  10\n"
     ]
    },
    {
     "name": "stdout",
     "output_type": "stream",
     "text": [
      "The natural logarithm of 10.0 is: 2.30\n"
     ]
    }
   ],
   "source": [
    "# 4. Write a Python Program to calculate the natural logarithm of any number?\n",
    "import math\n",
    "\n",
    "number = float(input(\"Enter number to find the logarithm : \"))\n",
    "\n",
    "result = math.log(number)\n",
    "\n",
    "print(\"The natural logarithm of {} is: {:.2f}\".format(number, result))"
   ]
  },
  {
   "cell_type": "code",
   "execution_count": 40,
   "id": "5df2d8cf-a0b8-4956-86f1-f4b59c73aa56",
   "metadata": {},
   "outputs": [
    {
     "name": "stdin",
     "output_type": "stream",
     "text": [
      "Enter a positive integer:  10\n"
     ]
    },
    {
     "name": "stdout",
     "output_type": "stream",
     "text": [
      "The cube sum of the first 10 natural numbers is: 3025\n"
     ]
    }
   ],
   "source": [
    "# 5. Write a Python Program for cube sum of first n natural numbers?\n",
    "\n",
    "def sum_cube(n):\n",
    "    try :\n",
    "        cube_sum = 0\n",
    "        for i in range(1, n+1):\n",
    "            cube_sum = cube_sum + (i**3)\n",
    "        return cube_sum\n",
    "    except Exception as e:\n",
    "        print(e)\n",
    "\n",
    "def take():\n",
    "    try:\n",
    "        n = int(input(\"Enter a positive integer: \"))\n",
    "        result = sum_cube(n)\n",
    "        return n, result\n",
    "    except Exception as e:\n",
    "        print(e)\n",
    "    \n",
    "n, result = take()\n",
    "print(\"The cube sum of the first {} natural numbers is: {}\".format(n, cube_sum))\n"
   ]
  },
  {
   "cell_type": "code",
   "execution_count": null,
   "id": "f558a55d-3c68-4672-9434-ed5e0a023274",
   "metadata": {},
   "outputs": [],
   "source": []
  }
 ],
 "metadata": {
  "kernelspec": {
   "display_name": "Python 3 (ipykernel)",
   "language": "python",
   "name": "python3"
  },
  "language_info": {
   "codemirror_mode": {
    "name": "ipython",
    "version": 3
   },
   "file_extension": ".py",
   "mimetype": "text/x-python",
   "name": "python",
   "nbconvert_exporter": "python",
   "pygments_lexer": "ipython3",
   "version": "3.10.6"
  }
 },
 "nbformat": 4,
 "nbformat_minor": 5
}
