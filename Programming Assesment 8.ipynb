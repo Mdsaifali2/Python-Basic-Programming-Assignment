{
 "cells": [
  {
   "cell_type": "code",
   "execution_count": 12,
   "id": "849faef3-5caa-4870-a1c6-3beb8b52eaa6",
   "metadata": {},
   "outputs": [],
   "source": [
    "# 1. Write a Python Program to Add Two Matrices?\n",
    "\n",
    "def add_matrices(mat_1, mat_2):\n",
    "    if len(mat_1) != len(mat_2):\n",
    "        return \"shape of the matrices are not same\"\n",
    "    else:\n",
    "        result = [[0] * len(mat_1[0]) for _ in range(len(mat_1))]\n",
    "              \n",
    "        for i in range(len(mat_1)):\n",
    "            for j in range(len(mat_2[0])):\n",
    "                result[i][j] = mat_1[i][j] + mat_2[i][j]\n",
    "        return result\n",
    "    \n",
    "matrix1 = [[1, 2, 3], [4, 5, 6], [7, 8, 9]]\n",
    "matrix2 = [[9, 8, 7], [6, 5, 4], [3, 2, 1]]\n",
    "result = add_matrices(matrix1, matrix2)\n",
    "print(result)"
   ]
  },
  {
   "cell_type": "code",
   "execution_count": 14,
   "id": "28a86e37-9112-4d36-89af-faeafdd6a182",
   "metadata": {},
   "outputs": [
    {
     "name": "stdout",
     "output_type": "stream",
     "text": [
      "[[9, 16, 21], [24, 25, 24], [21, 16, 9]]\n"
     ]
    }
   ],
   "source": [
    "# 2. Write a Python Program to Multiply Two Matrices?\n",
    "\n",
    "def mul_matrices(mat_1, mat_2):\n",
    "    if len(mat_1) != len(mat_2):\n",
    "        return \"shape of the matrices are not same\"\n",
    "    else:\n",
    "        result = [[0] * len(mat_1[0]) for _ in range(len(mat_1))]\n",
    "              \n",
    "        for i in range(len(mat_1)):\n",
    "            for j in range(len(mat_2[0])):\n",
    "                result[i][j] = mat_1[i][j] * mat_2[i][j]\n",
    "        return result\n",
    "    \n",
    "matrix1 = [[1, 2, 3], [4, 5, 6], [7, 8, 9]]\n",
    "matrix2 = [[9, 8, 7], [6, 5, 4], [3, 2, 1]]\n",
    "result = mul_matrices(matrix1, matrix2)\n",
    "print(result)"
   ]
  },
  {
   "cell_type": "code",
   "execution_count": 17,
   "id": "ab24710d-f351-4df8-bb80-353bb25d6af7",
   "metadata": {},
   "outputs": [
    {
     "name": "stdout",
     "output_type": "stream",
     "text": [
      "[[1, 4, 7], [2, 5, 8], [3, 6, 9]]\n"
     ]
    }
   ],
   "source": [
    "# 3. Write a Python Program to Transpose a Matrix?\n",
    "\n",
    "def mul_matrices(mat_1):\n",
    "    \n",
    "    result = [[0] * len(mat_1[0]) for _ in range(len(mat_1))]  \n",
    "\n",
    "    for i in range(len(mat_1)):\n",
    "        for j in range(len(mat_1[0])):\n",
    "            result[i][j] = mat_1[j][i]\n",
    "    return result\n",
    "\n",
    "matrix1 = [[1, 2, 3], [4, 5, 6], [7, 8, 9]]\n",
    "result = mul_matrices(matrix1)\n",
    "print(result)"
   ]
  },
  {
   "cell_type": "code",
   "execution_count": 25,
   "id": "185b6733-9a6b-44d4-a715-28651f6e9cbd",
   "metadata": {},
   "outputs": [
    {
     "name": "stdout",
     "output_type": "stream",
     "text": [
      "apple banana guest man yatch zebra\n"
     ]
    }
   ],
   "source": [
    "# 4. Write a Python Program to Sort Words in Alphabetic Order?\n",
    "\n",
    "def sortwords(words):\n",
    "    words_list = words.split()\n",
    "    # print(words_list)\n",
    "    words_list.sort()\n",
    "    # print(words_list)\n",
    "    sorted_words = \" \".join(words_list)\n",
    "    # print(sorted_words)\n",
    "    return sorted_words\n",
    "\n",
    "words = \"zebra yatch man guest banana apple\"\n",
    "sorted_words = sortwords(words)\n",
    "print(sorted_words)\n"
   ]
  },
  {
   "cell_type": "code",
   "execution_count": 39,
   "id": "b6265b67-84a2-4094-8935-1b85d7de0020",
   "metadata": {},
   "outputs": [
    {
     "name": "stdout",
     "output_type": "stream",
     "text": [
      "Hello world How are you doing today\n"
     ]
    }
   ],
   "source": [
    "# 5. Write a Python Program to Remove Punctuation From a String?\n",
    "\n",
    "import string\n",
    "\n",
    "def removepunctuation(text):\n",
    "    punctuation_marks = string.punctuation\n",
    "    newtext = \"\".join(char for char in text if char not in punctuation_marks)\n",
    "    return newtext\n",
    "\n",
    "text = \"Hello, world! How are you doing today?\"\n",
    "cleaned_text = removepunctuation(text)\n",
    "print(cleaned_text)\n",
    "\n"
   ]
  },
  {
   "cell_type": "code",
   "execution_count": null,
   "id": "5c266776-0807-4a83-ac54-1f8c5c93adba",
   "metadata": {},
   "outputs": [],
   "source": []
  },
  {
   "cell_type": "code",
   "execution_count": null,
   "id": "ccb142bc-c2e0-4896-ad0e-68482369a632",
   "metadata": {},
   "outputs": [],
   "source": []
  }
 ],
 "metadata": {
  "kernelspec": {
   "display_name": "Python 3 (ipykernel)",
   "language": "python",
   "name": "python3"
  },
  "language_info": {
   "codemirror_mode": {
    "name": "ipython",
    "version": 3
   },
   "file_extension": ".py",
   "mimetype": "text/x-python",
   "name": "python",
   "nbconvert_exporter": "python",
   "pygments_lexer": "ipython3",
   "version": "3.10.6"
  }
 },
 "nbformat": 4,
 "nbformat_minor": 5
}
