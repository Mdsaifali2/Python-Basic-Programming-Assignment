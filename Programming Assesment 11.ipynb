{
 "cells": [
  {
   "cell_type": "code",
   "execution_count": 16,
   "id": "49cc4f55-bf85-412d-946c-474d60b200f9",
   "metadata": {},
   "outputs": [
    {
     "name": "stdin",
     "output_type": "stream",
     "text": [
      "Enter text :  What are odd and even numbers with examples\n",
      "Enter the length of words to find :  5\n"
     ]
    },
    {
     "name": "stdout",
     "output_type": "stream",
     "text": [
      "numbers examples\n"
     ]
    }
   ],
   "source": [
    "# 1. Write a Python program to find words which are greater than given length k?\n",
    "def findWords(text, n)->list:\n",
    "    result = list()\n",
    "    text = list(text.split(\" \"))\n",
    "    for i in text:\n",
    "        # print(len(i))\n",
    "        if len(i) > n:\n",
    "            result.append(i)\n",
    "    \n",
    "    return \" \".join(result)\n",
    "\n",
    "text = input(\"Enter text : \")\n",
    "length = int(input(\"Enter the length of words to find : \"))\n",
    "result = findWords(text, length)\n",
    "print(result)"
   ]
  },
  {
   "cell_type": "code",
   "execution_count": 24,
   "id": "03292e6d-af47-459c-ada4-1d7a5e3473ae",
   "metadata": {},
   "outputs": [
    {
     "name": "stdin",
     "output_type": "stream",
     "text": [
      "Enter text :  Hello World\n",
      "Enter index number from 0 to 11  :  6\n"
     ]
    },
    {
     "name": "stdout",
     "output_type": "stream",
     "text": [
      "Hello orld\n"
     ]
    }
   ],
   "source": [
    "# 2. Write a Python program for removing i-th character from a string?\n",
    "\n",
    "def removechar(text, i)->list:\n",
    "    text = text[:i] + text[i+1:]\n",
    "    return text\n",
    "\n",
    "text = input(\"Enter text : \")\n",
    "length = int(input(f\"Enter index number from 0 to {len(text)}  : \"))\n",
    "result = removechar(text, length)\n",
    "print(result)"
   ]
  },
  {
   "cell_type": "code",
   "execution_count": 6,
   "id": "6643396f-9fbd-4dde-9756-750824728d45",
   "metadata": {},
   "outputs": [
    {
     "name": "stdin",
     "output_type": "stream",
     "text": [
      "Enter your string :  # 4. Write a Python to check if a given string\n"
     ]
    },
    {
     "name": "stdout",
     "output_type": "stream",
     "text": [
      "After Splitting :  ['#', '4.', 'Write', 'a', 'Python', 'to', 'check', 'if', 'a', 'given', 'string']\n",
      "After Joinning :  # 4. Write a Python to check if a given string\n"
     ]
    }
   ],
   "source": [
    "# 3. Write a Python program to split and join a string?\n",
    "\n",
    "def splitting():\n",
    "    text = input(\"Enter your string : \")\n",
    "    split_text = text.split()\n",
    "    return split_text\n",
    "\n",
    "def join_text(text):\n",
    "    joinn = \" \".join(text)\n",
    "    return joinn\n",
    "\n",
    "split_text = splitting()\n",
    "print(\"After Splitting : \", split_text)\n",
    "\n",
    "join_text = join_text(split_text)\n",
    "print(\"After Joinning : \", join_text)\n"
   ]
  },
  {
   "cell_type": "code",
   "execution_count": 7,
   "id": "e3013a41-c528-4e1c-a4cb-3bd0e3dd6f71",
   "metadata": {},
   "outputs": [
    {
     "name": "stdout",
     "output_type": "stream",
     "text": [
      "True\n",
      "False\n",
      "True\n"
     ]
    }
   ],
   "source": [
    "# 4. Write a Python to check if a given string is binary string or not?\n",
    "\n",
    "def isbinarystring(text):\n",
    "    binaryy = \"01\"\n",
    "    for i in text:\n",
    "        if i not in binaryy :\n",
    "            return False\n",
    "    return True\n",
    "\n",
    "\n",
    "string_1 = '10101010101'\n",
    "string_2 = '01010102'\n",
    "string_3 = '10101110100101010'\n",
    "\n",
    "print(isbinarystring(string_1))\n",
    "print(isbinarystring(string_2))\n",
    "print(isbinarystring(string_3))"
   ]
  },
  {
   "cell_type": "code",
   "execution_count": 18,
   "id": "8b800000-a489-4c41-bc21-c691c900b8a3",
   "metadata": {},
   "outputs": [
    {
     "name": "stdin",
     "output_type": "stream",
     "text": [
      "Enter 1st text :  my name is khan what is your name\n",
      "Enter 2nd text :  my name is khan \n"
     ]
    },
    {
     "name": "stdout",
     "output_type": "stream",
     "text": [
      "The uncommon words in text and text2 is :  ['what', 'your']\n"
     ]
    }
   ],
   "source": [
    "# 5. Write a Python program to find uncommon words from two Strings?\n",
    "def find_uncommon(t1, t2):\n",
    "    t1 = t1.split()\n",
    "    t2 = t2.split()\n",
    "    \n",
    "    text=list()\n",
    "    \n",
    "    for i in t1:\n",
    "        if i not in t2:\n",
    "            text.append(i)\n",
    "            \n",
    "    for i in t2:\n",
    "        if i not in t1:\n",
    "            text.append(i)\n",
    "    return text\n",
    "\n",
    "a = input(\"Enter 1st text : \")\n",
    "b = input(\"Enter 2nd text : \")\n",
    "\n",
    "result =  find_uncommon(a,b)\n",
    "print(\"The uncommon words in text and text2 is : \", result)"
   ]
  },
  {
   "cell_type": "code",
   "execution_count": 21,
   "id": "c665a787-90ae-474c-8766-0384c20d9e77",
   "metadata": {},
   "outputs": [
    {
     "name": "stdin",
     "output_type": "stream",
     "text": [
      "Enter string :  apple\n"
     ]
    },
    {
     "name": "stdout",
     "output_type": "stream",
     "text": [
      "['p']\n"
     ]
    }
   ],
   "source": [
    "# 6. Write a Python to find all duplicate characters in string?\n",
    "\n",
    "def findduplicate(text):\n",
    "    duplic = list()\n",
    "    for i in text:\n",
    "        if text.count(i) > 1 and i not in duplic:\n",
    "            duplic.append(i)\n",
    "    return duplic\n",
    "\n",
    "\n",
    "\n",
    "a = input(\"Enter string : \")\n",
    "b = findduplicate(a)\n",
    "print(b)"
   ]
  },
  {
   "cell_type": "code",
   "execution_count": 44,
   "id": "e24531a6-ccc3-4be0-aa68-b6e21a102e5c",
   "metadata": {},
   "outputs": [
    {
     "name": "stdin",
     "output_type": "stream",
     "text": [
      "Enter text :  print(\"String contains special characters\")\n"
     ]
    },
    {
     "name": "stdout",
     "output_type": "stream",
     "text": [
      "\"\n",
      "String contains special characters\n"
     ]
    }
   ],
   "source": [
    "# 7. Write a Python Program to check if a string contains any special character?\n",
    "\n",
    "import string\n",
    "def checkSpecialChar(text):\n",
    "    punctuation = string.punctuation\n",
    "    for i in punctuation:\n",
    "        if i in text:\n",
    "            return True\n",
    "\n",
    "\n",
    "text = input(\"Enter text : \")\n",
    "result = checkSpecialChar(text)\n",
    "if (result):\n",
    "    print(\"String contains special characters\")\n",
    "else:\n",
    "    print(\"String not contains special characters\")"
   ]
  },
  {
   "cell_type": "code",
   "execution_count": null,
   "id": "cb16ec83-5c00-460b-90e0-b2d5620c9a4d",
   "metadata": {},
   "outputs": [],
   "source": []
  }
 ],
 "metadata": {
  "kernelspec": {
   "display_name": "Python 3 (ipykernel)",
   "language": "python",
   "name": "python3"
  },
  "language_info": {
   "codemirror_mode": {
    "name": "ipython",
    "version": 3
   },
   "file_extension": ".py",
   "mimetype": "text/x-python",
   "name": "python",
   "nbconvert_exporter": "python",
   "pygments_lexer": "ipython3",
   "version": "3.10.6"
  }
 },
 "nbformat": 4,
 "nbformat_minor": 5
}
