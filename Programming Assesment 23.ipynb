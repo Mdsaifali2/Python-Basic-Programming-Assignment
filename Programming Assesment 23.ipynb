{
 "cells": [
  {
   "cell_type": "code",
   "execution_count": 21,
   "id": "86b914ed-92a8-47f0-a2c7-03fb3b30ee7d",
   "metadata": {},
   "outputs": [
    {
     "name": "stdout",
     "output_type": "stream",
     "text": [
      "True\n",
      "False\n",
      "True\n",
      "False\n",
      "True\n"
     ]
    }
   ],
   "source": [
    "# Question 1\n",
    "# Create a function that takes a number as an argument and returns True or False depending\n",
    "# on whether the number is symmetrical or not. A number is symmetrical when it is the same as\n",
    "# its reverse.\n",
    "# Examples\n",
    "# is_symmetrical(7227) ➞ True\n",
    "# is_symmetrical(12567) ➞ False\n",
    "# is_symmetrical(44444444) ➞ True\n",
    "# is_symmetrical(9939) ➞ False\n",
    "# is_symmetrical(1112111) ➞ True\n",
    "\n",
    "def isSymmetrical(num):\n",
    "    num = str(num)\n",
    "    x = str(num[::-1])\n",
    "    if num == x:\n",
    "        return True\n",
    "    else:\n",
    "        return False\n",
    "    \n",
    "\n",
    "print(isSymmetrical(7227))\n",
    "print(isSymmetrical(12567))\n",
    "print(isSymmetrical(44444444))\n",
    "print(isSymmetrical(9939))\n",
    "print(isSymmetrical(1112111))"
   ]
  },
  {
   "cell_type": "code",
   "execution_count": 39,
   "id": "f99fdfb0-6a65-47aa-ac36-c0e291bcd0cd",
   "metadata": {},
   "outputs": [
    {
     "name": "stdout",
     "output_type": "stream",
     "text": [
      "6\n",
      "24\n",
      "0\n",
      "-20\n"
     ]
    }
   ],
   "source": [
    "# Question 2\n",
    "# Given a string of numbers separated by a comma and space, return the product of the\n",
    "# numbers.\n",
    "# Examples\n",
    "# multiply_nums('2, 3') ➞ 6\n",
    "# multiply_nums('1, 2, 3, 4') ➞ 24\n",
    "# multiply_nums('54, 75, 453, 0') ➞ 0\n",
    "# multiply_nums('10, -2') ➞ -20\n",
    "\n",
    "def multyply_nums(x):\n",
    "    y = x.split(\", \")\n",
    "    result = 1\n",
    "    for i in y:\n",
    "        result *= int(i)\n",
    "    return result\n",
    "    \n",
    "print(multyply_nums('2, 3'))\n",
    "print(multyply_nums('1, 2, 3, 4'))\n",
    "print(multyply_nums('54, 75, 453, 0'))\n",
    "print(multyply_nums('10, -2'))"
   ]
  },
  {
   "cell_type": "code",
   "execution_count": 58,
   "id": "f25ee2ea-64ee-43c0-9b58-499313c8b1b9",
   "metadata": {},
   "outputs": [
    {
     "name": "stdout",
     "output_type": "stream",
     "text": [
      "811181\n",
      "416649\n",
      "9414\n"
     ]
    }
   ],
   "source": [
    "# Question 3\n",
    "# Create a function that squares every digit of a number.\n",
    "# Examples\n",
    "# square_digits(9119) ➞ 811181\n",
    "# square_digits(2483) ➞ 416649\n",
    "# square_digits(3212) ➞ 9414\n",
    "# Notes\n",
    "# The function receives an integer and must return an integer.\n",
    "\n",
    "def square_digits(num):\n",
    "    z = str(num)\n",
    "    x = []\n",
    "    for i in z:\n",
    "        r = int(i)*int(i)\n",
    "        x.append(str(r))\n",
    "    y = \"\".join(x)\n",
    "    return y\n",
    "    \n",
    "print(square_digits(9119))\n",
    "print(square_digits(2483))\n",
    "print(square_digits(3212))"
   ]
  },
  {
   "cell_type": "code",
   "execution_count": 60,
   "id": "d64422f1-2a4a-49ec-82f0-0de0e93cd422",
   "metadata": {},
   "outputs": [
    {
     "name": "stdout",
     "output_type": "stream",
     "text": [
      "[1, 3, 5]\n",
      "[4]\n",
      "[5, 7, 8, 9, 10, 15]\n",
      "[1, 2, 3]\n"
     ]
    }
   ],
   "source": [
    "# Question 4\n",
    "# Create a function that sorts a list and removes all duplicate items from it.\n",
    "# Examples\n",
    "# setify([1, 3, 3, 5, 5]) ➞ [1, 3, 5]\n",
    "# setify([4, 4, 4, 4]) ➞ [4]\n",
    "# setify([5, 7, 8, 9, 10, 15]) ➞ [5, 7, 8, 9, 10, 15]\n",
    "# setify([3, 3, 3, 2, 1]) ➞ [1, 2, 3]\n",
    "\n",
    "def setify(lst):\n",
    "    l = sorted(set(lst))\n",
    "    return l\n",
    "\n",
    "print(setify([1, 3, 3, 5, 5]))\n",
    "print(setify([4, 4, 4, 4]))\n",
    "print(setify([5, 7, 8, 9, 10, 15]))\n",
    "print(setify([3, 3, 3, 2, 1]))"
   ]
  },
  {
   "cell_type": "code",
   "execution_count": 76,
   "id": "7611c228-8d5a-4bb0-8b7c-6d59fb032b5e",
   "metadata": {},
   "outputs": [
    {
     "name": "stdout",
     "output_type": "stream",
     "text": [
      "3\n",
      "3\n",
      "6\n"
     ]
    }
   ],
   "source": [
    "# Question 5\n",
    "# Create a function that returns the mean of all digits.\n",
    "# Examples\n",
    "# mean(42) ➞ 3\n",
    "# mean(12345) ➞ 3\n",
    "# mean(666) ➞ 6\n",
    "# Notes\n",
    "#  The mean of all digits is the sum of digits / how many digits there are (e.g. mean of digits in\n",
    "# 512 is (5+1+2)/3(number of digits) = 8/3=2).\n",
    "#  The mean will always be an integer.\n",
    "\n",
    "def Mean(y):\n",
    "    y = str(y)\n",
    "    x = 0\n",
    "    for i in y:\n",
    "        x += int(i)\n",
    "    z = (x/len(y))\n",
    "    return int(z)\n",
    "\n",
    "print(Mean(42))\n",
    "print(Mean(12345))\n",
    "print(Mean(666))"
   ]
  },
  {
   "cell_type": "code",
   "execution_count": null,
   "id": "665b5ac6-2830-4666-9009-fd718dbe5cb4",
   "metadata": {},
   "outputs": [],
   "source": []
  }
 ],
 "metadata": {
  "kernelspec": {
   "display_name": "Python 3 (ipykernel)",
   "language": "python",
   "name": "python3"
  },
  "language_info": {
   "codemirror_mode": {
    "name": "ipython",
    "version": 3
   },
   "file_extension": ".py",
   "mimetype": "text/x-python",
   "name": "python",
   "nbconvert_exporter": "python",
   "pygments_lexer": "ipython3",
   "version": "3.10.6"
  }
 },
 "nbformat": 4,
 "nbformat_minor": 5
}
