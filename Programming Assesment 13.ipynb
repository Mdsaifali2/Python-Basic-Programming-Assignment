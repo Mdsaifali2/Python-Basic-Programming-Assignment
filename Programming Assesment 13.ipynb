{
 "cells": [
  {
   "cell_type": "code",
   "execution_count": 10,
   "id": "f8256429-9575-414b-b905-aa0c1abd2f20",
   "metadata": {},
   "outputs": [
    {
     "name": "stdin",
     "output_type": "stream",
     "text": [
      "Enter different values for D in with comma separated:  100,150,180\n"
     ]
    },
    {
     "name": "stdout",
     "output_type": "stream",
     "text": [
      "18, 22, 24\n"
     ]
    }
   ],
   "source": [
    "# Question 1:\n",
    "# Write a program that calculates and prints the value according to the given formula:\n",
    "# Q = Square root of [(2 * C * D)/H]\n",
    "# Following are the fixed values of C and H:\n",
    "# C is 50. H is 30.\n",
    "# D is the variable whose values should be input to your program in a comma-separated\n",
    "# sequence.\n",
    "# Example\n",
    "# Let us assume the following comma separated input sequence is given to the program:\n",
    "# 100,150,180\n",
    "# The output of the program should be:\n",
    "# 18,22,24\n",
    "\n",
    "def calculate_formula():\n",
    "    import math\n",
    "    C = 50\n",
    "    H = 30\n",
    "    D = input(\"Enter different values for D in with comma separated: \")\n",
    "    D = D.split(\",\")\n",
    "    \n",
    "    result = list()\n",
    "    for i in D:\n",
    "        Q = math.sqrt((2 * C * int(i)) / H)\n",
    "        result.append(Q)\n",
    "        \n",
    "    return result\n",
    "\n",
    "calculate_formula()\n",
    "print(', '.join(result_list))\n"
   ]
  },
  {
   "cell_type": "code",
   "execution_count": 20,
   "id": "85fc2992-f113-4e67-807b-a2ce18e619c7",
   "metadata": {},
   "outputs": [
    {
     "name": "stdin",
     "output_type": "stream",
     "text": [
      "Enter x :  3\n",
      "Enter y :  5\n"
     ]
    },
    {
     "name": "stdout",
     "output_type": "stream",
     "text": [
      "Enter the element :\n"
     ]
    },
    {
     "data": {
      "text/plain": [
       "[[0, 0, 0, 0, 0], [0, 1, 2, 3, 4], [0, 2, 4, 6, 8]]"
      ]
     },
     "execution_count": 20,
     "metadata": {},
     "output_type": "execute_result"
    }
   ],
   "source": [
    "# Question 2:\n",
    "# Write a program which takes 2 digits, X,Y as input and generates a 2-dimensional array. The\n",
    "# element value in the i-th row and j-th column of the array should be i*j.\n",
    "# Note: i=0,1.., X-1; j=0,1,¡Y-1.\n",
    "# Example\n",
    "# Suppose the following inputs are given to the program:\n",
    "# 3,5\n",
    "# Then, the output of the program should be:\n",
    "# [[0, 0, 0, 0, 0], [0, 1, 2, 3, 4], [0, 2, 4, 6, 8]]\n",
    "\n",
    "def Matrix(x,y):\n",
    "    result=list()         \n",
    "    print(\"Enter the element :\")\n",
    "    for i in range(x):\n",
    "        row =list()   \n",
    "        for j in range(y):\n",
    "            row.append(i*j)\n",
    "        result.append(row)\n",
    "    return(result)\n",
    "\n",
    "x = int(input(\"Enter x : \"))\n",
    "y = int(input(\"Enter y : \"))\n",
    "\n",
    "Matrix(x,y)"
   ]
  },
  {
   "cell_type": "code",
   "execution_count": 27,
   "id": "69439a57-35b1-4953-b9e7-1c24339d5f63",
   "metadata": {},
   "outputs": [
    {
     "name": "stdin",
     "output_type": "stream",
     "text": [
      "Enter words in comma separated :  without,hello,bag,world\n"
     ]
    },
    {
     "name": "stdout",
     "output_type": "stream",
     "text": [
      "bag, hello, without, world\n"
     ]
    }
   ],
   "source": [
    "# Question 3:\n",
    "# Write a program that accepts a comma separated sequence of words as input and prints the\n",
    "# words in a comma-separated sequence after sorting them alphabetically.\n",
    "# Suppose the following input is supplied to the program:\n",
    "# without,hello,bag,world\n",
    "# Then, the output should be:\n",
    "# bag,hello,without,world\n",
    "\n",
    "item = [x for x in input(\"Enter words in comma separated : \").split(\",\")]\n",
    "item.sort()\n",
    "print(\", \".join(item))"
   ]
  },
  {
   "cell_type": "code",
   "execution_count": 44,
   "id": "e6c20ec8-5aa4-43de-8cb8-f60189adbfc2",
   "metadata": {},
   "outputs": [
    {
     "name": "stdin",
     "output_type": "stream",
     "text": [
      "Enter words in space separated :  hello world and practice makes perfect and hello world again\n"
     ]
    },
    {
     "name": "stdout",
     "output_type": "stream",
     "text": [
      "again and hello makes perfect practice world\n"
     ]
    }
   ],
   "source": [
    "# Question 4:\n",
    "# Write a program that accepts a sequence of whitespace separated words as input and prints\n",
    "# the words after removing all duplicate words and sorting them alphanumerically.\n",
    "# Suppose the following input is supplied to the program:\n",
    "# hello world and practice makes perfect and hello world again\n",
    "# Then, the output should be:\n",
    "# again and hello makes perfect practice world\n",
    "\n",
    "items = [i for i in input(\"Enter words in space separated : \").split(\" \")]\n",
    "print(\" \".join(sorted(set(items))))"
   ]
  },
  {
   "cell_type": "code",
   "execution_count": 53,
   "id": "43367761-abc3-44b1-93d2-47d45fc16d3e",
   "metadata": {},
   "outputs": [
    {
     "name": "stdin",
     "output_type": "stream",
     "text": [
      "Enter sentence :  hello world! 123\n"
     ]
    },
    {
     "name": "stdout",
     "output_type": "stream",
     "text": [
      "hello world! 123\n",
      "Letters 10\n",
      "Digits 3\n"
     ]
    }
   ],
   "source": [
    "# Question 5:\n",
    "# Write a program that accepts a sentence and calculate the number of letters and digits.\n",
    "# Suppose the following input is supplied to the program:\n",
    "# hello world! 123\n",
    "# Then, the output should be:\n",
    "# LETTERS 10\n",
    "# DIGITS 3\n",
    "\n",
    "def count_LetDig(x):\n",
    "    digits=letters=0\n",
    "    for i in x:\n",
    "        if i.isdigit():\n",
    "            digits += 1\n",
    "        elif i.isalpha():\n",
    "            letters += 1\n",
    "        else:\n",
    "            pass\n",
    "    return digits, letters\n",
    "\n",
    "x = input(\"Enter sentence : \")\n",
    "digit, letter = count_LetDig(x)\n",
    "\n",
    "print(\"Letters\", letter)\n",
    "print(\"Digits\", digit)"
   ]
  },
  {
   "cell_type": "code",
   "execution_count": 94,
   "id": "9a389f1b-de91-434c-9e32-24fe5e09c84e",
   "metadata": {},
   "outputs": [],
   "source": [
    "# Question 6:\n",
    "# A website requires the users to input username and password to register. Write a program to\n",
    "# check the validity of password input by users.\n",
    "# Following are the criteria for checking the password:\n",
    "# 1. At least 1 letter between [a-z]\n",
    "# 2. At least 1 number between [0-9]\n",
    "# 1. At least 1 letter between [A-Z]\n",
    "# 3. At least 1 character from [$#@]\n",
    "# 4. Minimum length of transaction password: 6\n",
    "# 5. Maximum length of transaction password: 12\n",
    "# Your program should accept a sequence of comma separated passwords and will check them\n",
    "# according to the above criteria. Passwords that match the criteria are to be printed, each\n",
    "# separated by a comma.\n",
    "# Example\n",
    "# If the following passwords are given as input to the program:\n",
    "# ABd1234@1,a F1#,2w3E*,2We3345\n",
    "# Then, the output of the program should be:\n",
    "# ABd1234@1\n",
    "\n",
    "import re\n",
    "password= input(\"Enter your password : \")\n",
    "x = True\n",
    "\n",
    "while x:  \n",
    "    if (len(password) < 6 or len(password) > 12):\n",
    "        break\n",
    "    elif not re.search(\"[a-z]\",password):\n",
    "        break\n",
    "    elif not re.search(\"[0-9]\",password):\n",
    "        break\n",
    "    elif not re.search(\"[A-Z]\",password):\n",
    "        break\n",
    "    elif not re.search(\"[$#@]\",password):\n",
    "        break\n",
    "    elif re.search(\"\\s\",password):\n",
    "        break\n",
    "    else:\n",
    "        print(\"Valid Password\")\n",
    "        x=False\n",
    "        break\n",
    "\n",
    "if x:\n",
    "    print(\"Not a Valid Password\")\n",
    "\n"
   ]
  }
 ],
 "metadata": {
  "kernelspec": {
   "display_name": "Python 3 (ipykernel)",
   "language": "python",
   "name": "python3"
  },
  "language_info": {
   "codemirror_mode": {
    "name": "ipython",
    "version": 3
   },
   "file_extension": ".py",
   "mimetype": "text/x-python",
   "name": "python",
   "nbconvert_exporter": "python",
   "pygments_lexer": "ipython3",
   "version": "3.10.6"
  }
 },
 "nbformat": 4,
 "nbformat_minor": 5
}
