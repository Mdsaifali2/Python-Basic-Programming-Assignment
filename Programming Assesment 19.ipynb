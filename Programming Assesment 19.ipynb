{
 "cells": [
  {
   "cell_type": "code",
   "execution_count": 4,
   "id": "39f2f529-73dd-497f-b298-b1de052efcd8",
   "metadata": {},
   "outputs": [
    {
     "data": {
      "text/plain": [
       "'HHeelllloo  WWoorrlldd!!'"
      ]
     },
     "execution_count": 4,
     "metadata": {},
     "output_type": "execute_result"
    }
   ],
   "source": [
    "# Question1\n",
    "# Create a function that takes a string and returns a string in which each character is repeated\n",
    "# once.\n",
    "# Examples\n",
    "# double_char('String') ➞ 'SSttrriinngg'\n",
    "# double_char('Hello World!') ➞ 'HHeelllloo WWoorrlldd!!'\n",
    "# double_char('1234!_ ') ➞ '11223344!!__ '\n",
    "\n",
    "def double_char(text):\n",
    "    sentence = [i*2 for i in text]\n",
    "    sentence = \"\".join(sentence)\n",
    "    \n",
    "    return sentence\n",
    "\n",
    "double_char(\"Hello World!\")\n"
   ]
  },
  {
   "cell_type": "code",
   "execution_count": 13,
   "id": "fc8b45e1-276c-449e-a871-f517a82029aa",
   "metadata": {},
   "outputs": [
    {
     "name": "stdout",
     "output_type": "stream",
     "text": [
      "False\n",
      "True\n",
      "boolean expected\n",
      "boolean expected\n"
     ]
    }
   ],
   "source": [
    "# Question2\n",
    "# Create a function that reverses a boolean value and returns the string 'boolean expected'\n",
    "# if another variable type is given.\n",
    "# Examples\n",
    "# reverse(True) ➞ False\n",
    "# reverse(False) ➞ True\n",
    "# reverse(0) ➞ 'boolean expected'\n",
    "# reverse(None) ➞ 'boolean expected'\n",
    "\n",
    "def reverse(x):\n",
    "    return not x if type(x) == bool else \"boolean expected\"\n",
    "\n",
    "print(reverse(True))\n",
    "print(reverse(False))\n",
    "print(reverse(0))\n",
    "print(reverse(None))"
   ]
  },
  {
   "cell_type": "code",
   "execution_count": 34,
   "id": "9ff06dbf-2fe0-4cbb-b9cc-6b4a8b5dc34b",
   "metadata": {},
   "outputs": [
    {
     "name": "stdout",
     "output_type": "stream",
     "text": [
      "0.001m\n",
      "0.008m\n",
      "1048.576m\n"
     ]
    }
   ],
   "source": [
    "# Question3\n",
    "# Create a function that returns the thickness (in meters) of a piece of paper after folding it n\n",
    "# number of times. The paper starts off with a thickness of 0.5mm.\n",
    "# Examples\n",
    "# num_layers(1) ➞ '0.001m'\n",
    "# # Paper folded once is 1mm (equal to 0.001m)\n",
    "# num_layers(4) ➞ '0.008m'\n",
    "# # Paper folded 4 times is 8mm (equal to 0.008m)\n",
    "# num_layers(21) ➞ '1048.576m'\n",
    "# # Paper folded 21 times is 1048576mm (equal to 1048.576m)\n",
    "\n",
    "def numLayers(num):\n",
    "    thickness = 0.5\n",
    "    for _ in range(num):\n",
    "        thickness = thickness*2\n",
    "    return str(thickness / 1000) + \"m\"\n",
    "    \n",
    "print(numLayers(1))\n",
    "print(numLayers(4))\n",
    "print(numLayers(21))"
   ]
  },
  {
   "cell_type": "code",
   "execution_count": 40,
   "id": "e2c4794b-d529-4bf0-96d8-5e68b9d69f08",
   "metadata": {},
   "outputs": [
    {
     "name": "stdout",
     "output_type": "stream",
     "text": [
      "[1, 3, 5]\n",
      "[1, 3, 4, 6]\n",
      "[]\n",
      "[0, 1, 2, 3, 4, 5]\n",
      "[1]\n"
     ]
    }
   ],
   "source": [
    "# Question4\n",
    "# Create a function that takes a single string as argument and returns an ordered list containing\n",
    "# the indices of all capital letters in the string.\n",
    "# Examples\n",
    "# index_of_caps('eDaBiT') ➞ [1, 3, 5]\n",
    "# index_of_caps('eQuINoX') ➞ [1, 3, 4, 6]\n",
    "# index_of_caps('determine') ➞ []\n",
    "# index_of_caps('STRIKE') ➞ [0, 1, 2, 3, 4, 5]\n",
    "# index_of_caps('sUn') ➞ [1]\n",
    "\n",
    "def index_of_caps(string):\n",
    "    caps = [string.index(i) for i in string if i.isupper()]\n",
    "    return caps\n",
    "\n",
    "print(index_of_caps(\"eDaBiT\"))\n",
    "print(index_of_caps(\"eQuINoX\"))\n",
    "print(index_of_caps(\"determine\"))\n",
    "print(index_of_caps(\"STRIKE\"))\n",
    "print(index_of_caps(\"sUn\"))"
   ]
  },
  {
   "cell_type": "code",
   "execution_count": 44,
   "id": "d5da3b33-2687-468a-be81-1b4b187b9da8",
   "metadata": {},
   "outputs": [
    {
     "name": "stdout",
     "output_type": "stream",
     "text": [
      "[2, 4, 6, 8]\n",
      "[2, 4]\n",
      "[2]\n"
     ]
    }
   ],
   "source": [
    "# Question5\n",
    "# Using list comprehensions, create a function that finds all even numbers from 1 to the given\n",
    "# number.\n",
    "# Examples\n",
    "# find_even_nums(8) ➞ [2, 4, 6, 8]\n",
    "# find_even_nums(4) ➞ [2, 4]\n",
    "# find_even_nums(2) ➞ [2]\n",
    "\n",
    "\n",
    "def find_even_nums(num):\n",
    "    even = [i for i in range(1,num+1) if i%2==0]\n",
    "    return even\n",
    "\n",
    "print(find_even_nums(8))\n",
    "print(find_even_nums(4))\n",
    "print(find_even_nums(2))"
   ]
  },
  {
   "cell_type": "code",
   "execution_count": null,
   "id": "869d7d77-2672-4dad-84cf-c094eeef8304",
   "metadata": {},
   "outputs": [],
   "source": []
  }
 ],
 "metadata": {
  "kernelspec": {
   "display_name": "Python 3 (ipykernel)",
   "language": "python",
   "name": "python3"
  },
  "language_info": {
   "codemirror_mode": {
    "name": "ipython",
    "version": 3
   },
   "file_extension": ".py",
   "mimetype": "text/x-python",
   "name": "python",
   "nbconvert_exporter": "python",
   "pygments_lexer": "ipython3",
   "version": "3.10.6"
  }
 },
 "nbformat": 4,
 "nbformat_minor": 5
}
