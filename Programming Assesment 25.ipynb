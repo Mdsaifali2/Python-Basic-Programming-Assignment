{
 "cells": [
  {
   "cell_type": "code",
   "execution_count": 5,
   "id": "6139ba2c-cb6e-4dde-bf8f-5b767332fa48",
   "metadata": {},
   "outputs": [
    {
     "name": "stdout",
     "output_type": "stream",
     "text": [
      "2\n",
      "3\n",
      "0\n"
     ]
    }
   ],
   "source": [
    "# Question1\n",
    "# Create a function that takes three integer arguments (a, b, c) and returns the amount of\n",
    "# integers which are of equal value.\n",
    "# Examples\n",
    "# equal(3, 4, 3) ➞ 2\n",
    "# equal(1, 1, 1) ➞ 3\n",
    "# equal(3, 4, 1) ➞ 0\n",
    "# Notes\n",
    "# Your function must return 0, 2 or 3.\n",
    "\n",
    "def Equal(a,b,c):\n",
    "    if a!=b and b!=c and c!=a:\n",
    "        return 0\n",
    "    elif a==b and b==c and c==a:\n",
    "        return 3\n",
    "    elif a==b or b==c or c==a:\n",
    "        return 2\n",
    "\n",
    "print(Equal(3, 4, 3))\n",
    "print(Equal(1, 1, 1))\n",
    "print(Equal(3, 4, 1))"
   ]
  },
  {
   "cell_type": "code",
   "execution_count": 13,
   "id": "a6a79057-45ca-4abb-8138-cd675ca1c54f",
   "metadata": {},
   "outputs": [
    {
     "name": "stdout",
     "output_type": "stream",
     "text": [
      "[('D', 1), ('B', 2), ('C', 3)]\n",
      "[('likes', 2), ('dislikes', 3), ('followers', 10)]\n"
     ]
    }
   ],
   "source": [
    "# Question2\n",
    "# Write a function that converts a dictionary into a list of keys-values tuples.\n",
    "# Examples\n",
    "# dict_to_list({\n",
    "# 'D': 1,\n",
    "# 'B': 2,\n",
    "# 'C': 3\n",
    "# }) ➞ [('B', 2), ('C', 3), ('D', 1)]\n",
    "# dict_to_list({\n",
    "# 'likes': 2,\n",
    "# 'dislikes': 3,\n",
    "# 'followers': 10\n",
    "# }) ➞ [('dislikes', 3), ('followers', 10), ('likes', 2)]\n",
    "# Notes\n",
    "# Return the elements in the list in alphabetical order.\n",
    "\n",
    "def dict_to_list(dictt):\n",
    "    return list(dictt.items())\n",
    "                \n",
    "print(dict_to_list({'D': 1,'B': 2,'C': 3}))\n",
    "print(dict_to_list({'likes': 2, 'dislikes': 3, 'followers': 10}))\n"
   ]
  },
  {
   "cell_type": "code",
   "execution_count": 45,
   "id": "ae19d214-c467-4512-b2f2-156a5896996b",
   "metadata": {},
   "outputs": [
    {
     "name": "stdout",
     "output_type": "stream",
     "text": [
      "{'p': 'P', 's': 'S'}\n",
      "{'a': 'A', 'b': 'B', 'c': 'C'}\n",
      "{'a': 'A', 'v': 'V', 'y': 'Y', 'z': 'Z'}\n"
     ]
    }
   ],
   "source": [
    "# Question3\n",
    "# Write a function that creates a dictionary with each (key, value) pair being the (lower case,\n",
    "# upper case) versions of a letter, respectively.\n",
    "# Examples\n",
    "# mapping(['p', 's']) ➞ { 'p': 'P', 's': 'S' }\n",
    "\n",
    "# mapping(['a', 'b', 'c']) ➞ { 'a': 'A', 'b': 'B', 'c': 'C' }\n",
    "# mapping(['a', 'v', 'y', 'z']) ➞ { 'a': 'A', 'v': 'V', 'y': 'Y', 'z': 'Z' }\n",
    "# Notes\n",
    "# All of the letters in the input list will always be lowercase.\n",
    "\n",
    "\n",
    "def Mapping(lis):\n",
    "    return {i.lower():i.upper() for i in lis}\n",
    "    \n",
    "print(Mapping(['p', 's']))\n",
    "print(Mapping(['a', 'b', 'c']))\n",
    "print(Mapping(['a', 'v', 'y', 'z']))"
   ]
  },
  {
   "cell_type": "code",
   "execution_count": 58,
   "id": "240acb06-2da0-4a35-82ba-057a0c8a1985",
   "metadata": {},
   "outputs": [
    {
     "name": "stdout",
     "output_type": "stream",
     "text": [
      "upplus und bununus\n",
      "chooso cossorolo\n",
      "steffed jelepene peppers\n"
     ]
    }
   ],
   "source": [
    "# Question4 \n",
    "# Write a function, that replaces all vowels in a string with a specified vowel. \n",
    "# Examples \n",
    "# vow_replace('apples and bananas', 'u') ➞ 'upplus und bununus' \n",
    "# vow_replace('cheese casserole', 'o') ➞ 'chooso cossorolo' \n",
    "# vow_replace('stuffed jalapeno poppers', 'e') ➞ 'steffed jelepene peppers' \n",
    "# Notes \n",
    "# All words will be lowercase. Y is not considered a vowel. \n",
    "\n",
    "def vowReplace(text, vow):\n",
    "    vowels = 'a,e,i,o,u,A,E,I,O,U'\n",
    "    result = []\n",
    "    \n",
    "    for i in range(len(text)):\n",
    "        if text[i] in vowels:\n",
    "            result.append(vow)\n",
    "        else:\n",
    "            result.append(text[i])\n",
    "            \n",
    "    return \"\".join(result)\n",
    "    \n",
    "print(vowReplace('apples and bananas', 'u'))\n",
    "print(vowReplace('cheese casserole', 'o'))\n",
    "print(vowReplace('stuffed jalapeno poppers', 'e'))"
   ]
  },
  {
   "cell_type": "code",
   "execution_count": 65,
   "id": "f1ddb889-89eb-4a91-be56-9c41b3a9c3de",
   "metadata": {},
   "outputs": [
    {
     "name": "stdout",
     "output_type": "stream",
     "text": [
      "To Be oR NoT To Be!\n",
      "THe LiTTLe meRmaiD\n",
      "oH wHaT a BeauTiFuL moRNiNg.\n"
     ]
    }
   ],
   "source": [
    "# Question5\n",
    "# Create a function that takes a string as input and capitalizes a letter if its ASCII code is even\n",
    "# and returns its lower case version if its ASCII code is odd.\n",
    "# Examples\n",
    "# ascii_capitalize('to be or not to be!') ➞ 'To Be oR NoT To Be!'\n",
    "# ascii_capitalize('THE LITTLE MERMAID') ➞ 'THe LiTTLe meRmaiD'\n",
    "# ascii_capitalize('Oh what a beautiful morning.') ➞ 'oH wHaT a BeauTiFuL\n",
    "# moRNiNg.'\n",
    "\n",
    "def asciiCapitalize(text):\n",
    "    s1 = []\n",
    "    \n",
    "    for i in range(len(text)):\n",
    "        if ord(text[i]) % 2 == 0:\n",
    "            s1.append(text[i].upper())\n",
    "        else:\n",
    "            s1.append(text[i].lower())\n",
    "            \n",
    "    return \"\".join((s1))\n",
    "\n",
    "print(asciiCapitalize(\"to be or not to be!\"))\n",
    "print(asciiCapitalize(\"THE LITTLE MERMAID\"))\n",
    "print(asciiCapitalize(\"Oh what a beautiful morning.\"))"
   ]
  },
  {
   "cell_type": "code",
   "execution_count": null,
   "id": "4d6caa7e-b62f-4459-80be-7ba9e7cc9b68",
   "metadata": {},
   "outputs": [],
   "source": []
  }
 ],
 "metadata": {
  "kernelspec": {
   "display_name": "Python 3 (ipykernel)",
   "language": "python",
   "name": "python3"
  },
  "language_info": {
   "codemirror_mode": {
    "name": "ipython",
    "version": 3
   },
   "file_extension": ".py",
   "mimetype": "text/x-python",
   "name": "python",
   "nbconvert_exporter": "python",
   "pygments_lexer": "ipython3",
   "version": "3.10.6"
  }
 },
 "nbformat": 4,
 "nbformat_minor": 5
}
