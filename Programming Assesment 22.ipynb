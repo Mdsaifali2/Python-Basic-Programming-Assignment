{
 "cells": [
  {
   "cell_type": "code",
   "execution_count": 15,
   "id": "b3dba69c-a504-4efb-892f-e21340a636ce",
   "metadata": {},
   "outputs": [
    {
     "name": "stdin",
     "output_type": "stream",
     "text": [
      "Enter start of the range :  7\n",
      "Enter end of the range :  9\n",
      "Enter divisor to check :  2\n"
     ]
    },
    {
     "data": {
      "text/plain": [
       "[8]"
      ]
     },
     "execution_count": 15,
     "metadata": {},
     "output_type": "execute_result"
    }
   ],
   "source": [
    "# Question1\n",
    "# Create a function that takes three parameters where:\n",
    "#  x is the start of the range (inclusive).\n",
    "#  y is the end of the range (inclusive).\n",
    "#  n is the divisor to be checked against.\n",
    "# Return an ordered list with numbers in the range that are divisible by the third parameter n.\n",
    "# Return an empty list if there are no numbers that are divisible by n.\n",
    "# Examples\n",
    "# list_operation(1, 10, 3) ➞ [3, 6, 9]\n",
    "# list_operation(7, 9, 2) ➞ [8]\n",
    "# list_operation(15, 20, 7) ➞ []\n",
    "\n",
    "\n",
    "def list_operation():\n",
    "    x = int(input(\"Enter start of the range : \"))\n",
    "    y = int(input(\"Enter end of the range : \"))\n",
    "    n = int(input(\"Enter divisor to check : \"))\n",
    "    result = []\n",
    "    for i in range(x,y):\n",
    "        if i%n == 0:\n",
    "            result.append(i)\n",
    "    return result\n",
    "\n",
    "list_operation()"
   ]
  },
  {
   "cell_type": "code",
   "execution_count": 27,
   "id": "cf01671c-6bfd-468a-8192-7789efe54513",
   "metadata": {},
   "outputs": [
    {
     "name": "stdout",
     "output_type": "stream",
     "text": [
      "True\n",
      "False\n",
      "True\n",
      "False\n"
     ]
    }
   ],
   "source": [
    "# Question2\n",
    "# Create a function that takes in two lists and returns True if the second list follows the first list\n",
    "# by one element, and False otherwise. In other words, determine if the second list is the first\n",
    "# list shifted to the right by 1.\n",
    "# Examples\n",
    "# simon_says([1, 2], [5, 1]) ➞ True\n",
    "# simon_says([1, 2], [5, 5]) ➞ False\n",
    "# simon_says([1, 2, 3, 4, 5], [0, 1, 2, 3, 4]) ➞ True\n",
    "# simon_says([1, 2, 3, 4, 5], [5, 5, 1, 2, 3]) ➞ False\n",
    "# Notes\n",
    "# Both input lists will be of the same length, and will have a minimum length of 2.\n",
    "# The values of the 0-indexed element in the second list and the n-1th indexed element\n",
    "# in the first list do not matter.\n",
    "\n",
    "\n",
    "def simon_says(lis1,lis2):\n",
    "    if lis1[0:len(lis1)-1] == lis2[1:len(lis2)]:\n",
    "        return True\n",
    "    return False\n",
    "    \n",
    "print(simon_says([1, 2], [5, 1]))\n",
    "print(simon_says([1, 2], [5, 5]))\n",
    "print(simon_says([1, 2, 3, 4, 5], [0, 1, 2, 3, 4]))\n",
    "print(simon_says([1, 2, 3, 4, 5], [5, 5, 1, 2, 3]))"
   ]
  },
  {
   "cell_type": "code",
   "execution_count": 33,
   "id": "0f4d9e9b-e3d1-468b-93f0-45f4dcb37b87",
   "metadata": {},
   "outputs": [
    {
     "name": "stdout",
     "output_type": "stream",
     "text": [
      "AMS\n",
      "CHLN\n",
      "CJMPRR\n"
     ]
    }
   ],
   "source": [
    "# Question3\n",
    "# A group of friends have decided to start a secret society. The name will be the first letter of\n",
    "# each of their names, sorted in alphabetical order.\n",
    "# Create a function that takes in a list of names and returns the name of the secret society.\n",
    "\n",
    "# Examples\n",
    "# society_name(['Adam', 'Sarah', 'Malcolm']) ➞ 'AMS'\n",
    "# society_name(['Harry', 'Newt', 'Luna', 'Cho']) ➞ 'CHLN'\n",
    "# society_name(['Phoebe', 'Chandler', 'Rachel', 'Ross', 'Monica', 'Joey'])\n",
    "\n",
    "def societyName(lis):\n",
    "    lis = sorted(lis)\n",
    "    lis = \"\".join([i[0] for i in lis])\n",
    "    return lis\n",
    "    \n",
    "print(societyName(['Adam', 'Sarah', 'Malcolm']))\n",
    "print(societyName(['Harry', 'Newt', 'Luna', 'Cho']))\n",
    "print(societyName(['Phoebe', 'Chandler', 'Rachel', 'Ross', 'Monica', 'Joey']))\n"
   ]
  },
  {
   "cell_type": "code",
   "execution_count": 47,
   "id": "b1513a46-8688-450f-9ce3-6d6c99dc8d8a",
   "metadata": {},
   "outputs": [
    {
     "name": "stdout",
     "output_type": "stream",
     "text": [
      "True\n",
      "False\n",
      "False\n"
     ]
    }
   ],
   "source": [
    "# Question4\n",
    "# An isogram is a word that has no duplicate letters. Create a function that takes a string and\n",
    "# returns either True or False depending on whether or not it's an 'isogram'.\n",
    "# Examples\n",
    "# is_isogram('Algorism') ➞ True\n",
    "# is_isogram('PasSword') ➞ False\n",
    "# # Not case sensitive.\n",
    "# is_isogram('Consecutive') ➞ False\n",
    "# Notes\n",
    "#  Ignore letter case (should not be case sensitive).\n",
    "#  All test cases contain valid one word strings.\n",
    "\n",
    "def isIsogram(text):\n",
    "    text = text.lower()\n",
    "    for i in range(len(text)):\n",
    "        if text.count(text[i])>1:\n",
    "            return False\n",
    "    else:\n",
    "        return True\n",
    "    \n",
    "print(isIsogram(\"Algorism\"))\n",
    "print(isIsogram(\"PasSwords\"))\n",
    "print(isIsogram(\"Consecutive\"))"
   ]
  },
  {
   "cell_type": "code",
   "execution_count": 52,
   "id": "12b75252-441d-466a-9fae-b09a9682e01c",
   "metadata": {},
   "outputs": [
    {
     "name": "stdout",
     "output_type": "stream",
     "text": [
      "True\n",
      "False\n",
      "True\n",
      "True\n"
     ]
    }
   ],
   "source": [
    "# Question5\n",
    "# Create a function that takes a string and returns True or False, depending on whether the\n",
    "# characters are in order or not.\n",
    "# Examples\n",
    "# is_in_order('abc') ➞ True\n",
    "# is_in_order('edabit') ➞ False\n",
    "# is_in_order('123') ➞ True\n",
    "# is_in_order('xyzz') ➞ True\n",
    "# Notes\n",
    "# You don't have to handle empty strings.\n",
    "\n",
    "def isInOrder(text):\n",
    "    sort_text = sorted(text)\n",
    "    sort_text = \"\".join(sort_text)\n",
    "    # print(sort_text)\n",
    "    \n",
    "    if text == sort_text:\n",
    "        return True\n",
    "    else:\n",
    "        return False\n",
    "    \n",
    "    \n",
    "print(isInOrder('abc'))\n",
    "print(isInOrder('edabit'))\n",
    "print(isInOrder('123'))\n",
    "print(isInOrder('xyzz'))"
   ]
  },
  {
   "cell_type": "code",
   "execution_count": null,
   "id": "70358898-6aad-46ea-a59a-58ecdf3c0a87",
   "metadata": {},
   "outputs": [],
   "source": []
  }
 ],
 "metadata": {
  "kernelspec": {
   "display_name": "Python 3 (ipykernel)",
   "language": "python",
   "name": "python3"
  },
  "language_info": {
   "codemirror_mode": {
    "name": "ipython",
    "version": 3
   },
   "file_extension": ".py",
   "mimetype": "text/x-python",
   "name": "python",
   "nbconvert_exporter": "python",
   "pygments_lexer": "ipython3",
   "version": "3.10.6"
  }
 },
 "nbformat": 4,
 "nbformat_minor": 5
}
